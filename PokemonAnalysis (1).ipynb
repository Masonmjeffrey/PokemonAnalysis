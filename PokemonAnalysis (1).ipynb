{
 "cells": [
  {
   "cell_type": "markdown",
   "id": "e2327375-c1a2-41a6-903a-5b673b8143b7",
   "metadata": {},
   "source": [
    "## Project Topic : Pokemon Analysis"
   ]
  },
  {
   "cell_type": "markdown",
   "id": "7954b190-7f4e-446c-a550-55bb9d95094a",
   "metadata": {},
   "source": [
    "## Project Topic : Initial Description\n",
    "- This project will be for a classification problem\n",
    "- I will be performing a logistic regression and KNN based on the stats of individual pokemon and build models to determine whether a Pokemon is considered a \"Legendary\" and which non-legendary pokemon should really be viewed as legendary"
   ]
  },
  {
   "cell_type": "markdown",
   "id": "7cef821b-3a78-44c4-97f6-f519f06ced3e",
   "metadata": {},
   "source": [
    "## Project Topic : Background Knowledge\n",
    "\n",
    "### What is Pokemon?\n",
    "- Pokemon is a videogame and tv series based on the concept of fictional creatures called Pokemon\n",
    "- In the series humans known as Pokemon Trainers, catch and train Pokemon to battle each other and prove that they are the best\n",
    "- In the videogames every Pokemon has its own stats representing speed, health, attack, defense, and more\n",
    "- Every Pokemon also has 1 or 2 types such as fire, water, grass etc. with ever type being strong against others, and every type being weak to others (eg. Fire types are weak to Water types but strong against Grass types)\n",
    "- Pokemon gain experience through battling each other and gain levels that allow them to increase their stats and become more powerful with some \"evolving\" into a stronger form when they reach a certain level of experience \n",
    "- The Pokemon games have gotten bigger and bigger in file size with each generation (group) of games releaed with the first generation of games released in 1998 with a size of 10 mb to the latest generation released in November of 2022 with a size of 10 gb</br>\n",
    "\n",
    "### What are Legendary Pokemon?\n",
    "- Some Pokemon are incredibly rare and significantly more powerful than others, commonly referred to as \"Legendary Pokemon\"\n",
    "- These legendary pokemon usually have a mythical backstory that ties into the main story of the game and the Pokemon world itself\n",
    "- Often times these pokemon will be harder to catch, harder to find, and are special and unique\n",
    "- Usually only 1 of each legendary Pokemon is available in a given game meaning you can only catch 1 of each legendary Pokemon \n",
    "- Legendary Pokemon are generally considered stronger and are more often sought after by trainers or players of the videogames to include them in their Pokemon teams\n",
    "- These Pokemon can be so strong that the number of them that people are allowed to use in competition is often \n",
    "- Interestingly there is no official in-game criteria that indicates a Legendary Pokemon. That distinction is made through official statements in the media.\n",
    "\n",
    "### What are Pseudo-legendary Pokemon?\n",
    "- Every generation of videogame releases there are also a few Pokemon released that are considered pseudo-legendaries\n",
    "- These pokemon are NOT legendary pokemon\n",
    "- Multiple of these can be caught in the wild in every game although they are still difficult to obtain\n",
    "- All pseudo-legendaries are very powerful and usually come right next to the legendaries in sequential ordering\n",
    "- This is a fan-made term to recognize the extremely powerful pokemon in every generation"
   ]
  },
  {
   "cell_type": "markdown",
   "id": "2c9e7340-b996-44fc-9e3a-45901c4a6ffd",
   "metadata": {},
   "source": [
    "## Project Topic : Goal and Motivation\n",
    "- The goal of this problem is to determine whether a pokemon would be classified as a legendary or a non-legendary\n",
    "- The motivation behind this project is to discover which non-legendary pokemon should be considered legendary. There are a few which fans of the series would expect as pseudo-legendaries but I am curious which non-legendary pokmeon the model predicts to be legendary."
   ]
  },
  {
   "cell_type": "markdown",
   "id": "5d9c6c01-519b-4509-831f-fd8b4eea2033",
   "metadata": {},
   "source": [
    "### Data Source and Citation\n",
    "- The data was sourced from kaggle https://www.kaggle.com/datasets/abcsds/pokemon\n",
    "- The data was initially generated from a scrape pokemon.com, pokemondb, and bublapedia\n",
    "- O'Neill, G. (2022) Video Game Sales. Retrieved November 2, 2012 from https://www.kaggle.com/datasets/abcsds/pokemon."
   ]
  },
  {
   "cell_type": "markdown",
   "id": "8da21c70-4fe3-42cd-af27-9cb57fb942fb",
   "metadata": {},
   "source": [
    "### Dataset : Pokemon with Stats\n",
    "Dataset Size\n",
    "- The dataset contains 13 different columns\n",
    "- The dataset contains 800 rows of different pokemon\n",
    "\n",
    "\n",
    "### Important to note about the different stats : Physical vs. Special\n",
    "- After generation 2 the Pokemon company decided to revisit every individual pokemon creature and split the physical and special stats of pokemon\n",
    "- Pokemon were assigned a special attack stat, a physical attack stat, a special defense stat and a physical defense stat instead of the previous case where pokemon had an attack, defense, and special stat\n",
    "- Most importantly, every attack that a pokemon could use was divided into one of two categories Physical or Special\n",
    "- Specifically they gave some attacks like punches, kicks, bites a physical typing\n",
    "    - These Physical Attacks would use the Attack stat of the Attacking Pokemon, calculated against the Defense Stat of the Defending Pokemon\n",
    "- Conversley they gave some attacks like thunderbolts, flamethrowers, and energy beams a special typing\n",
    "    - These Special Attacks would use the Special Attack stat of the attacking Pokemon, against the Special Defense Stat of the Defending Pokemon\n",
    "    \n",
    "### This dataset contains the following variables\n",
    "- Pokedex index number, a unique integer index value representing the index of the Pokemon in the game's database the Pokedex\n",
    "- Name, a string, The name of the pokemon\n",
    "- Type 1, a string, The primary type of a pokemon\n",
    "- Type 2, a string, The secondary type of a pokemon, not all pokemon have a secondary typing\n",
    "- Total, an integer, The sum of the pokemon's stats\n",
    "- HP, an integer, The health stat of the pokemon\n",
    "- Attack, an integer, The attack stat of the pokemon\n",
    "- Defense, an integer, The defense stat of the pokemon\n",
    "- Special Attack, an integer, The special attack stat of the pokemon\n",
    "- Special Defense, an integer, The special defense stat of the pokemon\n",
    "- Speed, an integer, The speed stat of the pokemon\n",
    "- Generation, an integer, The generation of games that the pokemon was released in, every Pokemon game belongs to a generation with each generation of games sharing a map, similar gameplay mechanics and the same set of Pokemon.\n",
    "- Legendary, a boolean, This indicates whether a pokemon is classified as a legendary or not"
   ]
  },
  {
   "cell_type": "markdown",
   "id": "278f5c57-50d9-429e-b3ec-c0f02fc5c272",
   "metadata": {},
   "source": [
    "## Data Cleaning\n",
    "- Note : As I am not concerned about the actual individual names of the Pokemon in my dataset, spelling will not matter\n",
    "- Lets start by importing the required libraries and getting an overview of the dataset"
   ]
  },
  {
   "cell_type": "code",
   "execution_count": 1,
   "id": "a2499ab3-bee6-46d8-ad67-6b74c8475056",
   "metadata": {},
   "outputs": [],
   "source": [
    "#importing libraries\n",
    "import pandas as pd\n",
    "import numpy as np\n",
    "import matplotlib.pyplot as plt\n",
    "import matplotlib.colors as mcolors\n",
    "import statsmodels.formula.api as smf\n",
    "import statsmodels.api as sm\n",
    "from sklearn import preprocessing\n",
    "from sklearn.preprocessing import PolynomialFeatures as pf\n",
    "from sklearn.model_selection import train_test_split\n",
    "from sklearn.linear_model import LogisticRegression\n",
    "import patsy\n",
    "import sklearn\n",
    "import sklearn.metrics as metrics\n",
    "import sklearn.neighbors\n",
    "import seaborn as sns"
   ]
  },
  {
   "cell_type": "code",
   "execution_count": 2,
   "id": "2052f7b0-1e2f-43b2-89d4-269b5c5ac109",
   "metadata": {},
   "outputs": [
    {
     "data": {
      "text/html": [
       "<div>\n",
       "<style scoped>\n",
       "    .dataframe tbody tr th:only-of-type {\n",
       "        vertical-align: middle;\n",
       "    }\n",
       "\n",
       "    .dataframe tbody tr th {\n",
       "        vertical-align: top;\n",
       "    }\n",
       "\n",
       "    .dataframe thead th {\n",
       "        text-align: right;\n",
       "    }\n",
       "</style>\n",
       "<table border=\"1\" class=\"dataframe\">\n",
       "  <thead>\n",
       "    <tr style=\"text-align: right;\">\n",
       "      <th></th>\n",
       "      <th>#</th>\n",
       "      <th>Name</th>\n",
       "      <th>Type 1</th>\n",
       "      <th>Type 2</th>\n",
       "      <th>Total</th>\n",
       "      <th>HP</th>\n",
       "      <th>Attack</th>\n",
       "      <th>Defense</th>\n",
       "      <th>Sp. Atk</th>\n",
       "      <th>Sp. Def</th>\n",
       "      <th>Speed</th>\n",
       "      <th>Generation</th>\n",
       "      <th>Legendary</th>\n",
       "    </tr>\n",
       "  </thead>\n",
       "  <tbody>\n",
       "    <tr>\n",
       "      <th>0</th>\n",
       "      <td>1</td>\n",
       "      <td>Bulbasaur</td>\n",
       "      <td>Grass</td>\n",
       "      <td>Poison</td>\n",
       "      <td>318</td>\n",
       "      <td>45</td>\n",
       "      <td>49</td>\n",
       "      <td>49</td>\n",
       "      <td>65</td>\n",
       "      <td>65</td>\n",
       "      <td>45</td>\n",
       "      <td>1</td>\n",
       "      <td>False</td>\n",
       "    </tr>\n",
       "    <tr>\n",
       "      <th>1</th>\n",
       "      <td>2</td>\n",
       "      <td>Ivysaur</td>\n",
       "      <td>Grass</td>\n",
       "      <td>Poison</td>\n",
       "      <td>405</td>\n",
       "      <td>60</td>\n",
       "      <td>62</td>\n",
       "      <td>63</td>\n",
       "      <td>80</td>\n",
       "      <td>80</td>\n",
       "      <td>60</td>\n",
       "      <td>1</td>\n",
       "      <td>False</td>\n",
       "    </tr>\n",
       "    <tr>\n",
       "      <th>2</th>\n",
       "      <td>3</td>\n",
       "      <td>Venusaur</td>\n",
       "      <td>Grass</td>\n",
       "      <td>Poison</td>\n",
       "      <td>525</td>\n",
       "      <td>80</td>\n",
       "      <td>82</td>\n",
       "      <td>83</td>\n",
       "      <td>100</td>\n",
       "      <td>100</td>\n",
       "      <td>80</td>\n",
       "      <td>1</td>\n",
       "      <td>False</td>\n",
       "    </tr>\n",
       "    <tr>\n",
       "      <th>3</th>\n",
       "      <td>3</td>\n",
       "      <td>VenusaurMega Venusaur</td>\n",
       "      <td>Grass</td>\n",
       "      <td>Poison</td>\n",
       "      <td>625</td>\n",
       "      <td>80</td>\n",
       "      <td>100</td>\n",
       "      <td>123</td>\n",
       "      <td>122</td>\n",
       "      <td>120</td>\n",
       "      <td>80</td>\n",
       "      <td>1</td>\n",
       "      <td>False</td>\n",
       "    </tr>\n",
       "    <tr>\n",
       "      <th>4</th>\n",
       "      <td>4</td>\n",
       "      <td>Charmander</td>\n",
       "      <td>Fire</td>\n",
       "      <td>NaN</td>\n",
       "      <td>309</td>\n",
       "      <td>39</td>\n",
       "      <td>52</td>\n",
       "      <td>43</td>\n",
       "      <td>60</td>\n",
       "      <td>50</td>\n",
       "      <td>65</td>\n",
       "      <td>1</td>\n",
       "      <td>False</td>\n",
       "    </tr>\n",
       "  </tbody>\n",
       "</table>\n",
       "</div>"
      ],
      "text/plain": [
       "   #                   Name Type 1  Type 2  Total  HP  Attack  Defense  \\\n",
       "0  1              Bulbasaur  Grass  Poison    318  45      49       49   \n",
       "1  2                Ivysaur  Grass  Poison    405  60      62       63   \n",
       "2  3               Venusaur  Grass  Poison    525  80      82       83   \n",
       "3  3  VenusaurMega Venusaur  Grass  Poison    625  80     100      123   \n",
       "4  4             Charmander   Fire     NaN    309  39      52       43   \n",
       "\n",
       "   Sp. Atk  Sp. Def  Speed  Generation  Legendary  \n",
       "0       65       65     45           1      False  \n",
       "1       80       80     60           1      False  \n",
       "2      100      100     80           1      False  \n",
       "3      122      120     80           1      False  \n",
       "4       60       50     65           1      False  "
      ]
     },
     "execution_count": 2,
     "metadata": {},
     "output_type": "execute_result"
    }
   ],
   "source": [
    "pkmn_data = pd.read_csv(\"Pokemon.csv\")\n",
    "pkmn_data.head()"
   ]
  },
  {
   "cell_type": "markdown",
   "id": "92739daa-16ae-4abe-bd5a-4515110aa1f3",
   "metadata": {},
   "source": [
    "- First lets check null values in each column to see if there are any records we need to remove due to missing information, I expect there to be missing values in the Type 2 column as not all pokemon have secondary typings\n",
    "- Other than the Type 2 column I do not expect any missing values, thus if I see any below then there is a problem"
   ]
  },
  {
   "cell_type": "code",
   "execution_count": 3,
   "id": "157bd980-18f2-452a-8df8-4b63e16dc519",
   "metadata": {},
   "outputs": [
    {
     "data": {
      "text/plain": [
       "#               0\n",
       "Name            0\n",
       "Type 1          0\n",
       "Type 2        386\n",
       "Total           0\n",
       "HP              0\n",
       "Attack          0\n",
       "Defense         0\n",
       "Sp. Atk         0\n",
       "Sp. Def         0\n",
       "Speed           0\n",
       "Generation      0\n",
       "Legendary       0\n",
       "dtype: int64"
      ]
     },
     "execution_count": 3,
     "metadata": {},
     "output_type": "execute_result"
    }
   ],
   "source": [
    "#check null totals\n",
    "pkmn_data.isnull().sum()"
   ]
  },
  {
   "cell_type": "markdown",
   "id": "fa820f7c-ef5b-469b-8e17-733b8c57e605",
   "metadata": {},
   "source": [
    "- It looks like the data is good to go on that front, I don't see any unexpected missing values"
   ]
  },
  {
   "cell_type": "markdown",
   "id": "7bcbfa2b-2afd-4fe1-83db-2b83ea2914c8",
   "metadata": {},
   "source": [
    "### Data Cleaning : Errors in the data\n",
    "- There were a few pokemon that were mistakenly labeled as non legendaries that are actually legendary, this is a mistake \n",
    "- Namely Mew, Celebi, Cresselia, Manaphy, Genesct, Keldeo, Keldeo, and Meloetta Aria Forme are all legendary pokemon but are incorrectly labeled as non-legendary within the dataset, to fix this I will change the legendary status of these Pokemon to true"
   ]
  },
  {
   "cell_type": "code",
   "execution_count": 4,
   "id": "b0e2800a-de4e-47a5-b43f-46c85671138b",
   "metadata": {},
   "outputs": [],
   "source": [
    "#change legendary status to true for select pokmeon\n",
    "pkmn_data.loc[pkmn_data[\"Name\"] == \"Mew\", \"Legendary\"] = True\n",
    "pkmn_data.loc[pkmn_data[\"Name\"] == \"Celebi\", \"Legendary\"] = True\n",
    "pkmn_data.loc[pkmn_data[\"Name\"] == \"Cresselia\", \"Legendary\"] = True\n",
    "pkmn_data.loc[pkmn_data[\"Name\"] == \"Manaphy\", \"Legendary\"] = True\n",
    "pkmn_data.loc[pkmn_data[\"Name\"] == \"Genesect\", \"Legendary\"] = True\n",
    "pkmn_data.loc[pkmn_data[\"Name\"] == \"MeloettaAria Forme\", \"Legendary\"] = True\n",
    "pkmn_data.loc[pkmn_data[\"Name\"] == \"KeldeoResolute Forme\", \"Legendary\"] = True\n",
    "pkmn_data.loc[pkmn_data[\"Name\"] == \"KeldeoOrdinary Forme\", \"Legendary\"] = True"
   ]
  },
  {
   "cell_type": "markdown",
   "id": "5897cd55-fd93-477d-9606-4d7786942641",
   "metadata": {},
   "source": [
    "### Data Cleaning : Removal of Duplicates true duplicates\n",
    "- First I will check for true duplicate rows in the dataframe and then I will address special cases that are represented as duplicates\n"
   ]
  },
  {
   "cell_type": "code",
   "execution_count": 5,
   "id": "e5c6bd90-7185-4543-a0a0-407e3709bcaf",
   "metadata": {},
   "outputs": [
    {
     "data": {
      "text/plain": [
       "False"
      ]
     },
     "execution_count": 5,
     "metadata": {},
     "output_type": "execute_result"
    }
   ],
   "source": [
    "boolean = pkmn_data.duplicated(subset=['Name']).any()\n",
    "boolean"
   ]
  },
  {
   "cell_type": "markdown",
   "id": "45c67cf6-df21-4bc1-9b87-f76b52d4e36c",
   "metadata": {},
   "source": [
    "- It looks like there aren't any dupilcate rows in my dataset so that check passes"
   ]
  },
  {
   "cell_type": "markdown",
   "id": "cbf10d1c-5330-4a6d-810c-382c86d7eba9",
   "metadata": {},
   "source": [
    "### Data Cleaning : Removal of Duplicates, special cases\n",
    "- This required a little inside knowledge about pokemon but is a part of the data cleaning that I feel necessary\n",
    "- In Pokemon there are certain special cases that are really duplicates of the same Pokemon but are entered as different entities in the dataset. These special cases which will be described are Mega Pokemon, Primal Pokemon, Therian Forms, and a unique case of the pokemon \"Meloetta\"\n",
    "- Megapokemon are special mechanic that was introduced in the middle of the series. When a pokemon \"mega-evolves\" it gains stats, possibly a secondary typing but its status as a legendary will not change. Further this megapokemon is still considered the same pokemon, thus I've decided to remove all mega pokemon from our dataset as they would be something different entirely to deal with\n",
    "- Primal Pokemon follow the same logic as mega pokemon but for two special cases of pokemon that are already legendary. Specifically Groudon and Kyogre, for the same reason as mega pokemon we will remove those records\n",
    "- There was a group of pokemon introduced that were able to switch forms. These pokemon do not lose or gain legendary status and have the same base stat totals. Because these pokemon are considered the same pokemon just in a different form I will remove all of the \"therian\" or transformed forms\n",
    "- Meloetta is another specific case for a pokemon that can transform but does not change its legendary status or base stat totals, as such I've decided to remove one of its Pirouette form"
   ]
  },
  {
   "cell_type": "code",
   "execution_count": 6,
   "id": "ed6b3c1e-4c67-4c2e-a306-36ce50d9d486",
   "metadata": {},
   "outputs": [
    {
     "data": {
      "text/html": [
       "<div>\n",
       "<style scoped>\n",
       "    .dataframe tbody tr th:only-of-type {\n",
       "        vertical-align: middle;\n",
       "    }\n",
       "\n",
       "    .dataframe tbody tr th {\n",
       "        vertical-align: top;\n",
       "    }\n",
       "\n",
       "    .dataframe thead th {\n",
       "        text-align: right;\n",
       "    }\n",
       "</style>\n",
       "<table border=\"1\" class=\"dataframe\">\n",
       "  <thead>\n",
       "    <tr style=\"text-align: right;\">\n",
       "      <th></th>\n",
       "      <th>#</th>\n",
       "      <th>Name</th>\n",
       "      <th>Type 1</th>\n",
       "      <th>Type 2</th>\n",
       "      <th>Total</th>\n",
       "      <th>HP</th>\n",
       "      <th>Attack</th>\n",
       "      <th>Defense</th>\n",
       "      <th>Sp. Atk</th>\n",
       "      <th>Sp. Def</th>\n",
       "      <th>Speed</th>\n",
       "      <th>Generation</th>\n",
       "      <th>Legendary</th>\n",
       "    </tr>\n",
       "  </thead>\n",
       "  <tbody>\n",
       "    <tr>\n",
       "      <th>0</th>\n",
       "      <td>1</td>\n",
       "      <td>Bulbasaur</td>\n",
       "      <td>Grass</td>\n",
       "      <td>Poison</td>\n",
       "      <td>318</td>\n",
       "      <td>45</td>\n",
       "      <td>49</td>\n",
       "      <td>49</td>\n",
       "      <td>65</td>\n",
       "      <td>65</td>\n",
       "      <td>45</td>\n",
       "      <td>1</td>\n",
       "      <td>False</td>\n",
       "    </tr>\n",
       "    <tr>\n",
       "      <th>1</th>\n",
       "      <td>2</td>\n",
       "      <td>Ivysaur</td>\n",
       "      <td>Grass</td>\n",
       "      <td>Poison</td>\n",
       "      <td>405</td>\n",
       "      <td>60</td>\n",
       "      <td>62</td>\n",
       "      <td>63</td>\n",
       "      <td>80</td>\n",
       "      <td>80</td>\n",
       "      <td>60</td>\n",
       "      <td>1</td>\n",
       "      <td>False</td>\n",
       "    </tr>\n",
       "    <tr>\n",
       "      <th>2</th>\n",
       "      <td>3</td>\n",
       "      <td>Venusaur</td>\n",
       "      <td>Grass</td>\n",
       "      <td>Poison</td>\n",
       "      <td>525</td>\n",
       "      <td>80</td>\n",
       "      <td>82</td>\n",
       "      <td>83</td>\n",
       "      <td>100</td>\n",
       "      <td>100</td>\n",
       "      <td>80</td>\n",
       "      <td>1</td>\n",
       "      <td>False</td>\n",
       "    </tr>\n",
       "    <tr>\n",
       "      <th>4</th>\n",
       "      <td>4</td>\n",
       "      <td>Charmander</td>\n",
       "      <td>Fire</td>\n",
       "      <td>NaN</td>\n",
       "      <td>309</td>\n",
       "      <td>39</td>\n",
       "      <td>52</td>\n",
       "      <td>43</td>\n",
       "      <td>60</td>\n",
       "      <td>50</td>\n",
       "      <td>65</td>\n",
       "      <td>1</td>\n",
       "      <td>False</td>\n",
       "    </tr>\n",
       "    <tr>\n",
       "      <th>5</th>\n",
       "      <td>5</td>\n",
       "      <td>Charmeleon</td>\n",
       "      <td>Fire</td>\n",
       "      <td>NaN</td>\n",
       "      <td>405</td>\n",
       "      <td>58</td>\n",
       "      <td>64</td>\n",
       "      <td>58</td>\n",
       "      <td>80</td>\n",
       "      <td>65</td>\n",
       "      <td>80</td>\n",
       "      <td>1</td>\n",
       "      <td>False</td>\n",
       "    </tr>\n",
       "  </tbody>\n",
       "</table>\n",
       "</div>"
      ],
      "text/plain": [
       "   #        Name Type 1  Type 2  Total  HP  Attack  Defense  Sp. Atk  Sp. Def  \\\n",
       "0  1   Bulbasaur  Grass  Poison    318  45      49       49       65       65   \n",
       "1  2     Ivysaur  Grass  Poison    405  60      62       63       80       80   \n",
       "2  3    Venusaur  Grass  Poison    525  80      82       83      100      100   \n",
       "4  4  Charmander   Fire     NaN    309  39      52       43       60       50   \n",
       "5  5  Charmeleon   Fire     NaN    405  58      64       58       80       65   \n",
       "\n",
       "   Speed  Generation  Legendary  \n",
       "0     45           1      False  \n",
       "1     60           1      False  \n",
       "2     80           1      False  \n",
       "4     65           1      False  \n",
       "5     80           1      False  "
      ]
     },
     "execution_count": 6,
     "metadata": {},
     "output_type": "execute_result"
    }
   ],
   "source": [
    "no_megas = pkmn_data[pkmn_data[\"Name\"].str.contains(\"Mega\")==False]\n",
    "no_primals = no_megas[no_megas[\"Name\"].str.contains(\"Primal\")==False]\n",
    "no_therian = no_primals[no_primals[\"Name\"].str.contains(\"Therian\")==False]\n",
    "no_pirouette = no_therian[no_therian[\"Name\"].str.contains(\"Pirouette\")==False]\n",
    "no_pirouette.head()"
   ]
  },
  {
   "cell_type": "code",
   "execution_count": 7,
   "id": "7f1d716a-02fb-445c-b522-ecb244b61b5b",
   "metadata": {},
   "outputs": [
    {
     "data": {
      "text/plain": [
       "(745, 13)"
      ]
     },
     "execution_count": 7,
     "metadata": {},
     "output_type": "execute_result"
    }
   ],
   "source": [
    "no_pirouette.shape"
   ]
  },
  {
   "cell_type": "markdown",
   "id": "1d458403-63d8-4764-b84b-24994888840f",
   "metadata": {},
   "source": [
    "- Our new dataframe that we will be analyzing contains the records for 745 pokemon lets just rename it for future use"
   ]
  },
  {
   "cell_type": "code",
   "execution_count": 8,
   "id": "a2bedf69-bab7-4db9-b348-3822278e7f4b",
   "metadata": {},
   "outputs": [],
   "source": [
    "pkmn = no_pirouette"
   ]
  },
  {
   "cell_type": "markdown",
   "id": "9b922562-1e55-4f16-bae2-e599b16ff46d",
   "metadata": {},
   "source": [
    "# Exploratory Data Analysis"
   ]
  },
  {
   "cell_type": "markdown",
   "id": "846ec772-1616-475a-afa7-e17867e7fadc",
   "metadata": {},
   "source": [
    "### Exploratory Data Analysis : Pokemon per Generation\n",
    "- Lets start by taking a look at how the total number of pokemon are split by each generation and how many legendaries are in each generation.\n",
    "- By doing so I hope to learn whether there is a trend in the total number of legendaries in each generation"
   ]
  },
  {
   "cell_type": "code",
   "execution_count": 9,
   "id": "8ce2a26a-9c20-461d-ae6c-98e3bec2d972",
   "metadata": {},
   "outputs": [
    {
     "data": {
      "text/plain": [
       "Generation\n",
       "1    151\n",
       "2     99\n",
       "3    138\n",
       "4    116\n",
       "5    160\n",
       "6     81\n",
       "Name: Legendary, dtype: int64"
      ]
     },
     "execution_count": 9,
     "metadata": {},
     "output_type": "execute_result"
    }
   ],
   "source": [
    "pkmn_per_gen = pkmn.groupby(by='Generation')['Legendary'].count()\n",
    "pkmn_per_gen"
   ]
  },
  {
   "cell_type": "markdown",
   "id": "a20f4676-fac4-408b-a2c9-93c65e8f2d5b",
   "metadata": {},
   "source": [
    "- Now lets visualize those numbers"
   ]
  },
  {
   "cell_type": "code",
   "execution_count": 10,
   "id": "6ddb19c1-aaba-4570-944d-37bc9d9cce86",
   "metadata": {},
   "outputs": [
    {
     "data": {
      "text/plain": [
       "<AxesSubplot:xlabel='Generation'>"
      ]
     },
     "execution_count": 10,
     "metadata": {},
     "output_type": "execute_result"
    },
    {
     "data": {
      "image/png": "[encoded data removed]",
      "text/plain": [
       "<Figure size 432x288 with 1 Axes>"
      ]
     },
     "metadata": {
      "needs_background": "light"
     },
     "output_type": "display_data"
    }
   ],
   "source": [
    "pkmn_per_gen.plot(kind='bar', color=['blue', 'green', 'purple', 'red', 'pink', 'orange'])"
   ]
  },
  {
   "cell_type": "markdown",
   "id": "6f32d21c-00d1-4a9f-9682-2e5efa5e2298",
   "metadata": {},
   "source": [
    "- We can see that generations 6 and 2 have the fewest total pokemon but the other generations have roughly the same number"
   ]
  },
  {
   "cell_type": "code",
   "execution_count": 11,
   "id": "67001097-71d3-4c33-acab-0c97ac75f5e3",
   "metadata": {},
   "outputs": [
    {
     "data": {
      "text/plain": [
       "Generation\n",
       "1     5\n",
       "2     6\n",
       "3    13\n",
       "4    15\n",
       "5    16\n",
       "6     7\n",
       "Name: Legendary, dtype: int64"
      ]
     },
     "execution_count": 11,
     "metadata": {},
     "output_type": "execute_result"
    }
   ],
   "source": [
    "legendaries_per_gen = pkmn.groupby(by='Generation')['Legendary'].sum()\n",
    "legendaries_per_gen"
   ]
  },
  {
   "cell_type": "code",
   "execution_count": 12,
   "id": "b9631219-fb50-4715-8c60-582e12927d8c",
   "metadata": {},
   "outputs": [
    {
     "data": {
      "text/plain": [
       "<AxesSubplot:xlabel='Generation'>"
      ]
     },
     "execution_count": 12,
     "metadata": {},
     "output_type": "execute_result"
    },
    {
     "data": {
      "image/png": "[encoded data removed]",
      "text/plain": [
       "<Figure size 432x288 with 1 Axes>"
      ]
     },
     "metadata": {
      "needs_background": "light"
     },
     "output_type": "display_data"
    }
   ],
   "source": [
    "legendaries_per_gen.plot(kind='bar', color=['blue', 'green', 'purple', 'red', 'pink', 'orange'])"
   ]
  },
  {
   "cell_type": "markdown",
   "id": "c1ba17f2-8799-4287-9cb9-0635616f3d6e",
   "metadata": {},
   "source": [
    "- We can see that generations 3,4,5 have by far the most legendary pokemon. \n",
    "- Generations 1,2,6 have relatively few legendaries, I somewhat expected this from generation 6 as it had the fewest number of overall Pokemon but not from generation 1 which had the 2nd most pokemon\n",
    "- Whats really important here is that there isn't a clear trend of more or less legendary pokemon as the generation progressed"
   ]
  },
  {
   "cell_type": "markdown",
   "id": "8165b508-3d69-4220-b55b-883880f62ed0",
   "metadata": {},
   "source": [
    "### Exploratory Data Analysis : Proportion of Legendary Pokemon\n",
    "- Lets consider Class Imbalance\n",
    "- If there are too many Pokemon that are non-legendary it could be a problem\n"
   ]
  },
  {
   "cell_type": "code",
   "execution_count": 13,
   "id": "1df7680d-5e89-4535-b6df-bda0300de7fb",
   "metadata": {},
   "outputs": [
    {
     "data": {
      "image/png": "[encoded data removed]",
      "text/plain": [
       "<Figure size 576x432 with 1 Axes>"
      ]
     },
     "metadata": {
      "needs_background": "light"
     },
     "output_type": "display_data"
    },
    {
     "name": "stdout",
     "output_type": "stream",
     "text": [
      "Proportion of Legendary Pokemon :  8.053691275167784 %\n"
     ]
    }
   ],
   "source": [
    "legend_plot = pkmn['Legendary'].value_counts()\n",
    "xlabels = [685, 60]\n",
    "plt.figure(figsize=(8, 6))\n",
    "ax = legend_plot.plot(kind='bar', color=['r', 'g'])\n",
    "ax.set_title(\"Legendary vs Nonlegendary Pokemon\")\n",
    "ax.set_xlabel(\"Legendary Status\")\n",
    "ax.set_ylabel(\"Count\")\n",
    "ax.set_xticklabels(xlabels)\n",
    "plt.show()\n",
    "print(\"Proportion of Legendary Pokemon : \", (60/(60+685))*100, \"%\")"
   ]
  },
  {
   "cell_type": "markdown",
   "id": "9f968ddd-fb13-4a34-8c0a-4e8c0a724570",
   "metadata": {},
   "source": [
    "- It looks like roughly 8% of all Pokemon are considered legendary, with the minority class having a 2:25 ratio I don't see a particular issue for class imbalance but I'll definitely keep an eye on it"
   ]
  },
  {
   "cell_type": "markdown",
   "id": "a3984498-700d-4cfa-9f00-b262d7a2dba8",
   "metadata": {},
   "source": [
    "### Exploratory Data Analysis : What is are 'best' and 'worst' legendaries?\n",
    "- Legendary Pokemon in general have higher stat totals than non-legendary pokemon\n",
    "- Which legendary Pokemon has the lowest stat total and which legendary had the highest stat total"
   ]
  },
  {
   "cell_type": "code",
   "execution_count": 14,
   "id": "4c9be561-1f1f-41ee-84b5-0aaa641ca678",
   "metadata": {},
   "outputs": [
    {
     "data": {
      "text/html": [
       "<div>\n",
       "<style scoped>\n",
       "    .dataframe tbody tr th:only-of-type {\n",
       "        vertical-align: middle;\n",
       "    }\n",
       "\n",
       "    .dataframe tbody tr th {\n",
       "        vertical-align: top;\n",
       "    }\n",
       "\n",
       "    .dataframe thead th {\n",
       "        text-align: right;\n",
       "    }\n",
       "</style>\n",
       "<table border=\"1\" class=\"dataframe\">\n",
       "  <thead>\n",
       "    <tr style=\"text-align: right;\">\n",
       "      <th></th>\n",
       "      <th>#</th>\n",
       "      <th>Name</th>\n",
       "      <th>Type 1</th>\n",
       "      <th>Type 2</th>\n",
       "      <th>Total</th>\n",
       "      <th>HP</th>\n",
       "      <th>Attack</th>\n",
       "      <th>Defense</th>\n",
       "      <th>Sp. Atk</th>\n",
       "      <th>Sp. Def</th>\n",
       "      <th>Speed</th>\n",
       "      <th>Generation</th>\n",
       "      <th>Legendary</th>\n",
       "    </tr>\n",
       "  </thead>\n",
       "  <tbody>\n",
       "    <tr>\n",
       "      <th>156</th>\n",
       "      <td>144</td>\n",
       "      <td>Articuno</td>\n",
       "      <td>Ice</td>\n",
       "      <td>Flying</td>\n",
       "      <td>580</td>\n",
       "      <td>90</td>\n",
       "      <td>85</td>\n",
       "      <td>100</td>\n",
       "      <td>95</td>\n",
       "      <td>125</td>\n",
       "      <td>85</td>\n",
       "      <td>1</td>\n",
       "      <td>True</td>\n",
       "    </tr>\n",
       "    <tr>\n",
       "      <th>157</th>\n",
       "      <td>145</td>\n",
       "      <td>Zapdos</td>\n",
       "      <td>Electric</td>\n",
       "      <td>Flying</td>\n",
       "      <td>580</td>\n",
       "      <td>90</td>\n",
       "      <td>90</td>\n",
       "      <td>85</td>\n",
       "      <td>125</td>\n",
       "      <td>90</td>\n",
       "      <td>100</td>\n",
       "      <td>1</td>\n",
       "      <td>True</td>\n",
       "    </tr>\n",
       "    <tr>\n",
       "      <th>158</th>\n",
       "      <td>146</td>\n",
       "      <td>Moltres</td>\n",
       "      <td>Fire</td>\n",
       "      <td>Flying</td>\n",
       "      <td>580</td>\n",
       "      <td>90</td>\n",
       "      <td>100</td>\n",
       "      <td>90</td>\n",
       "      <td>125</td>\n",
       "      <td>85</td>\n",
       "      <td>90</td>\n",
       "      <td>1</td>\n",
       "      <td>True</td>\n",
       "    </tr>\n",
       "    <tr>\n",
       "      <th>262</th>\n",
       "      <td>243</td>\n",
       "      <td>Raikou</td>\n",
       "      <td>Electric</td>\n",
       "      <td>NaN</td>\n",
       "      <td>580</td>\n",
       "      <td>90</td>\n",
       "      <td>85</td>\n",
       "      <td>75</td>\n",
       "      <td>115</td>\n",
       "      <td>100</td>\n",
       "      <td>115</td>\n",
       "      <td>2</td>\n",
       "      <td>True</td>\n",
       "    </tr>\n",
       "    <tr>\n",
       "      <th>263</th>\n",
       "      <td>244</td>\n",
       "      <td>Entei</td>\n",
       "      <td>Fire</td>\n",
       "      <td>NaN</td>\n",
       "      <td>580</td>\n",
       "      <td>115</td>\n",
       "      <td>115</td>\n",
       "      <td>85</td>\n",
       "      <td>90</td>\n",
       "      <td>75</td>\n",
       "      <td>100</td>\n",
       "      <td>2</td>\n",
       "      <td>True</td>\n",
       "    </tr>\n",
       "    <tr>\n",
       "      <th>264</th>\n",
       "      <td>245</td>\n",
       "      <td>Suicune</td>\n",
       "      <td>Water</td>\n",
       "      <td>NaN</td>\n",
       "      <td>580</td>\n",
       "      <td>100</td>\n",
       "      <td>75</td>\n",
       "      <td>115</td>\n",
       "      <td>90</td>\n",
       "      <td>115</td>\n",
       "      <td>85</td>\n",
       "      <td>2</td>\n",
       "      <td>True</td>\n",
       "    </tr>\n",
       "    <tr>\n",
       "      <th>414</th>\n",
       "      <td>377</td>\n",
       "      <td>Regirock</td>\n",
       "      <td>Rock</td>\n",
       "      <td>NaN</td>\n",
       "      <td>580</td>\n",
       "      <td>80</td>\n",
       "      <td>100</td>\n",
       "      <td>200</td>\n",
       "      <td>50</td>\n",
       "      <td>100</td>\n",
       "      <td>50</td>\n",
       "      <td>3</td>\n",
       "      <td>True</td>\n",
       "    </tr>\n",
       "    <tr>\n",
       "      <th>415</th>\n",
       "      <td>378</td>\n",
       "      <td>Regice</td>\n",
       "      <td>Ice</td>\n",
       "      <td>NaN</td>\n",
       "      <td>580</td>\n",
       "      <td>80</td>\n",
       "      <td>50</td>\n",
       "      <td>100</td>\n",
       "      <td>100</td>\n",
       "      <td>200</td>\n",
       "      <td>50</td>\n",
       "      <td>3</td>\n",
       "      <td>True</td>\n",
       "    </tr>\n",
       "    <tr>\n",
       "      <th>416</th>\n",
       "      <td>379</td>\n",
       "      <td>Registeel</td>\n",
       "      <td>Steel</td>\n",
       "      <td>NaN</td>\n",
       "      <td>580</td>\n",
       "      <td>80</td>\n",
       "      <td>75</td>\n",
       "      <td>150</td>\n",
       "      <td>75</td>\n",
       "      <td>150</td>\n",
       "      <td>50</td>\n",
       "      <td>3</td>\n",
       "      <td>True</td>\n",
       "    </tr>\n",
       "    <tr>\n",
       "      <th>537</th>\n",
       "      <td>480</td>\n",
       "      <td>Uxie</td>\n",
       "      <td>Psychic</td>\n",
       "      <td>NaN</td>\n",
       "      <td>580</td>\n",
       "      <td>75</td>\n",
       "      <td>75</td>\n",
       "      <td>130</td>\n",
       "      <td>75</td>\n",
       "      <td>130</td>\n",
       "      <td>95</td>\n",
       "      <td>4</td>\n",
       "      <td>True</td>\n",
       "    </tr>\n",
       "    <tr>\n",
       "      <th>538</th>\n",
       "      <td>481</td>\n",
       "      <td>Mesprit</td>\n",
       "      <td>Psychic</td>\n",
       "      <td>NaN</td>\n",
       "      <td>580</td>\n",
       "      <td>80</td>\n",
       "      <td>105</td>\n",
       "      <td>105</td>\n",
       "      <td>105</td>\n",
       "      <td>105</td>\n",
       "      <td>80</td>\n",
       "      <td>4</td>\n",
       "      <td>True</td>\n",
       "    </tr>\n",
       "    <tr>\n",
       "      <th>539</th>\n",
       "      <td>482</td>\n",
       "      <td>Azelf</td>\n",
       "      <td>Psychic</td>\n",
       "      <td>NaN</td>\n",
       "      <td>580</td>\n",
       "      <td>75</td>\n",
       "      <td>125</td>\n",
       "      <td>70</td>\n",
       "      <td>125</td>\n",
       "      <td>70</td>\n",
       "      <td>115</td>\n",
       "      <td>4</td>\n",
       "      <td>True</td>\n",
       "    </tr>\n",
       "    <tr>\n",
       "      <th>699</th>\n",
       "      <td>638</td>\n",
       "      <td>Cobalion</td>\n",
       "      <td>Steel</td>\n",
       "      <td>Fighting</td>\n",
       "      <td>580</td>\n",
       "      <td>91</td>\n",
       "      <td>90</td>\n",
       "      <td>129</td>\n",
       "      <td>90</td>\n",
       "      <td>72</td>\n",
       "      <td>108</td>\n",
       "      <td>5</td>\n",
       "      <td>True</td>\n",
       "    </tr>\n",
       "    <tr>\n",
       "      <th>700</th>\n",
       "      <td>639</td>\n",
       "      <td>Terrakion</td>\n",
       "      <td>Rock</td>\n",
       "      <td>Fighting</td>\n",
       "      <td>580</td>\n",
       "      <td>91</td>\n",
       "      <td>129</td>\n",
       "      <td>90</td>\n",
       "      <td>72</td>\n",
       "      <td>90</td>\n",
       "      <td>108</td>\n",
       "      <td>5</td>\n",
       "      <td>True</td>\n",
       "    </tr>\n",
       "    <tr>\n",
       "      <th>701</th>\n",
       "      <td>640</td>\n",
       "      <td>Virizion</td>\n",
       "      <td>Grass</td>\n",
       "      <td>Fighting</td>\n",
       "      <td>580</td>\n",
       "      <td>91</td>\n",
       "      <td>90</td>\n",
       "      <td>72</td>\n",
       "      <td>90</td>\n",
       "      <td>129</td>\n",
       "      <td>108</td>\n",
       "      <td>5</td>\n",
       "      <td>True</td>\n",
       "    </tr>\n",
       "    <tr>\n",
       "      <th>702</th>\n",
       "      <td>641</td>\n",
       "      <td>TornadusIncarnate Forme</td>\n",
       "      <td>Flying</td>\n",
       "      <td>NaN</td>\n",
       "      <td>580</td>\n",
       "      <td>79</td>\n",
       "      <td>115</td>\n",
       "      <td>70</td>\n",
       "      <td>125</td>\n",
       "      <td>80</td>\n",
       "      <td>111</td>\n",
       "      <td>5</td>\n",
       "      <td>True</td>\n",
       "    </tr>\n",
       "    <tr>\n",
       "      <th>704</th>\n",
       "      <td>642</td>\n",
       "      <td>ThundurusIncarnate Forme</td>\n",
       "      <td>Electric</td>\n",
       "      <td>Flying</td>\n",
       "      <td>580</td>\n",
       "      <td>79</td>\n",
       "      <td>115</td>\n",
       "      <td>70</td>\n",
       "      <td>125</td>\n",
       "      <td>80</td>\n",
       "      <td>111</td>\n",
       "      <td>5</td>\n",
       "      <td>True</td>\n",
       "    </tr>\n",
       "    <tr>\n",
       "      <th>713</th>\n",
       "      <td>647</td>\n",
       "      <td>KeldeoOrdinary Forme</td>\n",
       "      <td>Water</td>\n",
       "      <td>Fighting</td>\n",
       "      <td>580</td>\n",
       "      <td>91</td>\n",
       "      <td>72</td>\n",
       "      <td>90</td>\n",
       "      <td>129</td>\n",
       "      <td>90</td>\n",
       "      <td>108</td>\n",
       "      <td>5</td>\n",
       "      <td>True</td>\n",
       "    </tr>\n",
       "    <tr>\n",
       "      <th>714</th>\n",
       "      <td>647</td>\n",
       "      <td>KeldeoResolute Forme</td>\n",
       "      <td>Water</td>\n",
       "      <td>Fighting</td>\n",
       "      <td>580</td>\n",
       "      <td>91</td>\n",
       "      <td>72</td>\n",
       "      <td>90</td>\n",
       "      <td>129</td>\n",
       "      <td>90</td>\n",
       "      <td>108</td>\n",
       "      <td>5</td>\n",
       "      <td>True</td>\n",
       "    </tr>\n",
       "  </tbody>\n",
       "</table>\n",
       "</div>"
      ],
      "text/plain": [
       "       #                      Name    Type 1    Type 2  Total   HP  Attack  \\\n",
       "156  144                  Articuno       Ice    Flying    580   90      85   \n",
       "157  145                    Zapdos  Electric    Flying    580   90      90   \n",
       "158  146                   Moltres      Fire    Flying    580   90     100   \n",
       "262  243                    Raikou  Electric       NaN    580   90      85   \n",
       "263  244                     Entei      Fire       NaN    580  115     115   \n",
       "264  245                   Suicune     Water       NaN    580  100      75   \n",
       "414  377                  Regirock      Rock       NaN    580   80     100   \n",
       "415  378                    Regice       Ice       NaN    580   80      50   \n",
       "416  379                 Registeel     Steel       NaN    580   80      75   \n",
       "537  480                      Uxie   Psychic       NaN    580   75      75   \n",
       "538  481                   Mesprit   Psychic       NaN    580   80     105   \n",
       "539  482                     Azelf   Psychic       NaN    580   75     125   \n",
       "699  638                  Cobalion     Steel  Fighting    580   91      90   \n",
       "700  639                 Terrakion      Rock  Fighting    580   91     129   \n",
       "701  640                  Virizion     Grass  Fighting    580   91      90   \n",
       "702  641   TornadusIncarnate Forme    Flying       NaN    580   79     115   \n",
       "704  642  ThundurusIncarnate Forme  Electric    Flying    580   79     115   \n",
       "713  647      KeldeoOrdinary Forme     Water  Fighting    580   91      72   \n",
       "714  647      KeldeoResolute Forme     Water  Fighting    580   91      72   \n",
       "\n",
       "     Defense  Sp. Atk  Sp. Def  Speed  Generation  Legendary  \n",
       "156      100       95      125     85           1       True  \n",
       "157       85      125       90    100           1       True  \n",
       "158       90      125       85     90           1       True  \n",
       "262       75      115      100    115           2       True  \n",
       "263       85       90       75    100           2       True  \n",
       "264      115       90      115     85           2       True  \n",
       "414      200       50      100     50           3       True  \n",
       "415      100      100      200     50           3       True  \n",
       "416      150       75      150     50           3       True  \n",
       "537      130       75      130     95           4       True  \n",
       "538      105      105      105     80           4       True  \n",
       "539       70      125       70    115           4       True  \n",
       "699      129       90       72    108           5       True  \n",
       "700       90       72       90    108           5       True  \n",
       "701       72       90      129    108           5       True  \n",
       "702       70      125       80    111           5       True  \n",
       "704       70      125       80    111           5       True  \n",
       "713       90      129       90    108           5       True  \n",
       "714       90      129       90    108           5       True  "
      ]
     },
     "execution_count": 14,
     "metadata": {},
     "output_type": "execute_result"
    }
   ],
   "source": [
    "legendary_pkmn = pkmn[pkmn[\"Legendary\"]]\n",
    "worst_legendary = legendary_pkmn[legendary_pkmn['Total']==legendary_pkmn['Total'].min()]\n",
    "worst_legendary"
   ]
  },
  {
   "cell_type": "markdown",
   "id": "e7c6ac5d-bb5a-4f5f-b5a5-be401c7214b4",
   "metadata": {},
   "source": [
    "- It looks like the lowest stat total for legendary pokemon is 580 and that there are alot of pokemon with 580 total base stats\n",
    "- Now lets find the best legendaries"
   ]
  },
  {
   "cell_type": "code",
   "execution_count": 15,
   "id": "29425b08-89d0-4cb9-9bed-80b625c8a3c0",
   "metadata": {},
   "outputs": [
    {
     "data": {
      "text/html": [
       "<div>\n",
       "<style scoped>\n",
       "    .dataframe tbody tr th:only-of-type {\n",
       "        vertical-align: middle;\n",
       "    }\n",
       "\n",
       "    .dataframe tbody tr th {\n",
       "        vertical-align: top;\n",
       "    }\n",
       "\n",
       "    .dataframe thead th {\n",
       "        text-align: right;\n",
       "    }\n",
       "</style>\n",
       "<table border=\"1\" class=\"dataframe\">\n",
       "  <thead>\n",
       "    <tr style=\"text-align: right;\">\n",
       "      <th></th>\n",
       "      <th>#</th>\n",
       "      <th>Name</th>\n",
       "      <th>Type 1</th>\n",
       "      <th>Type 2</th>\n",
       "      <th>Total</th>\n",
       "      <th>HP</th>\n",
       "      <th>Attack</th>\n",
       "      <th>Defense</th>\n",
       "      <th>Sp. Atk</th>\n",
       "      <th>Sp. Def</th>\n",
       "      <th>Speed</th>\n",
       "      <th>Generation</th>\n",
       "      <th>Legendary</th>\n",
       "    </tr>\n",
       "  </thead>\n",
       "  <tbody>\n",
       "    <tr>\n",
       "      <th>552</th>\n",
       "      <td>493</td>\n",
       "      <td>Arceus</td>\n",
       "      <td>Normal</td>\n",
       "      <td>NaN</td>\n",
       "      <td>720</td>\n",
       "      <td>120</td>\n",
       "      <td>120</td>\n",
       "      <td>120</td>\n",
       "      <td>120</td>\n",
       "      <td>120</td>\n",
       "      <td>120</td>\n",
       "      <td>4</td>\n",
       "      <td>True</td>\n",
       "    </tr>\n",
       "  </tbody>\n",
       "</table>\n",
       "</div>"
      ],
      "text/plain": [
       "       #    Name  Type 1 Type 2  Total   HP  Attack  Defense  Sp. Atk  \\\n",
       "552  493  Arceus  Normal    NaN    720  120     120      120      120   \n",
       "\n",
       "     Sp. Def  Speed  Generation  Legendary  \n",
       "552      120    120           4       True  "
      ]
     },
     "execution_count": 15,
     "metadata": {},
     "output_type": "execute_result"
    }
   ],
   "source": [
    "best_legendary = legendary_pkmn[legendary_pkmn['Total']==legendary_pkmn['Total'].max()]\n",
    "best_legendary"
   ]
  },
  {
   "cell_type": "markdown",
   "id": "fce62326-0990-406b-a528-fb97482b84c9",
   "metadata": {},
   "source": [
    "- It looks like there is only one legendary with the highest stat total, Arceus\n",
    "- Upon further investiagation it looks like this pokemon is considered the \"God\" of pokemon, somewhat fitting that it has the highest stat total then"
   ]
  },
  {
   "cell_type": "markdown",
   "id": "143ee928-8548-4406-95c8-9d1aae16c69a",
   "metadata": {},
   "source": [
    "### Exploratory Data Analysis : What are the \"best\" and \"worst\" non-legendaries?\n",
    "- Now that I've taken a look at which legendary pokemon have the highest and lowest stat totals lets take at the best and worst non-legendary pokemon"
   ]
  },
  {
   "cell_type": "code",
   "execution_count": 16,
   "id": "d7b0bb96-a3f2-475d-badd-9942828895c2",
   "metadata": {},
   "outputs": [
    {
     "data": {
      "text/html": [
       "<div>\n",
       "<style scoped>\n",
       "    .dataframe tbody tr th:only-of-type {\n",
       "        vertical-align: middle;\n",
       "    }\n",
       "\n",
       "    .dataframe tbody tr th {\n",
       "        vertical-align: top;\n",
       "    }\n",
       "\n",
       "    .dataframe thead th {\n",
       "        text-align: right;\n",
       "    }\n",
       "</style>\n",
       "<table border=\"1\" class=\"dataframe\">\n",
       "  <thead>\n",
       "    <tr style=\"text-align: right;\">\n",
       "      <th></th>\n",
       "      <th>#</th>\n",
       "      <th>Name</th>\n",
       "      <th>Type 1</th>\n",
       "      <th>Type 2</th>\n",
       "      <th>Total</th>\n",
       "      <th>HP</th>\n",
       "      <th>Attack</th>\n",
       "      <th>Defense</th>\n",
       "      <th>Sp. Atk</th>\n",
       "      <th>Sp. Def</th>\n",
       "      <th>Speed</th>\n",
       "      <th>Generation</th>\n",
       "      <th>Legendary</th>\n",
       "    </tr>\n",
       "  </thead>\n",
       "  <tbody>\n",
       "    <tr>\n",
       "      <th>206</th>\n",
       "      <td>191</td>\n",
       "      <td>Sunkern</td>\n",
       "      <td>Grass</td>\n",
       "      <td>NaN</td>\n",
       "      <td>180</td>\n",
       "      <td>30</td>\n",
       "      <td>30</td>\n",
       "      <td>30</td>\n",
       "      <td>30</td>\n",
       "      <td>30</td>\n",
       "      <td>30</td>\n",
       "      <td>2</td>\n",
       "      <td>False</td>\n",
       "    </tr>\n",
       "  </tbody>\n",
       "</table>\n",
       "</div>"
      ],
      "text/plain": [
       "       #     Name Type 1 Type 2  Total  HP  Attack  Defense  Sp. Atk  Sp. Def  \\\n",
       "206  191  Sunkern  Grass    NaN    180  30      30       30       30       30   \n",
       "\n",
       "     Speed  Generation  Legendary  \n",
       "206     30           2      False  "
      ]
     },
     "execution_count": 16,
     "metadata": {},
     "output_type": "execute_result"
    }
   ],
   "source": [
    "non_legendary_pkmn = pkmn[~pkmn[\"Legendary\"]]\n",
    "worst_non_legendary = non_legendary_pkmn[non_legendary_pkmn['Total']==non_legendary_pkmn['Total'].min()]\n",
    "worst_non_legendary"
   ]
  },
  {
   "cell_type": "markdown",
   "id": "0c53122e-a07c-4840-8d2b-9f39ecbb26c4",
   "metadata": {},
   "source": [
    "- It looks like Sunkern has the lowest base stat totals of any pokemon at 180 and thats waaay lower than legendaries"
   ]
  },
  {
   "cell_type": "code",
   "execution_count": 17,
   "id": "5b876751-56ac-484b-8c83-39e8f2bbb233",
   "metadata": {},
   "outputs": [
    {
     "data": {
      "text/html": [
       "<div>\n",
       "<style scoped>\n",
       "    .dataframe tbody tr th:only-of-type {\n",
       "        vertical-align: middle;\n",
       "    }\n",
       "\n",
       "    .dataframe tbody tr th {\n",
       "        vertical-align: top;\n",
       "    }\n",
       "\n",
       "    .dataframe thead th {\n",
       "        text-align: right;\n",
       "    }\n",
       "</style>\n",
       "<table border=\"1\" class=\"dataframe\">\n",
       "  <thead>\n",
       "    <tr style=\"text-align: right;\">\n",
       "      <th></th>\n",
       "      <th>#</th>\n",
       "      <th>Name</th>\n",
       "      <th>Type 1</th>\n",
       "      <th>Type 2</th>\n",
       "      <th>Total</th>\n",
       "      <th>HP</th>\n",
       "      <th>Attack</th>\n",
       "      <th>Defense</th>\n",
       "      <th>Sp. Atk</th>\n",
       "      <th>Sp. Def</th>\n",
       "      <th>Speed</th>\n",
       "      <th>Generation</th>\n",
       "      <th>Legendary</th>\n",
       "    </tr>\n",
       "  </thead>\n",
       "  <tbody>\n",
       "    <tr>\n",
       "      <th>313</th>\n",
       "      <td>289</td>\n",
       "      <td>Slaking</td>\n",
       "      <td>Normal</td>\n",
       "      <td>NaN</td>\n",
       "      <td>670</td>\n",
       "      <td>150</td>\n",
       "      <td>160</td>\n",
       "      <td>100</td>\n",
       "      <td>95</td>\n",
       "      <td>65</td>\n",
       "      <td>100</td>\n",
       "      <td>3</td>\n",
       "      <td>False</td>\n",
       "    </tr>\n",
       "  </tbody>\n",
       "</table>\n",
       "</div>"
      ],
      "text/plain": [
       "       #     Name  Type 1 Type 2  Total   HP  Attack  Defense  Sp. Atk  \\\n",
       "313  289  Slaking  Normal    NaN    670  150     160      100       95   \n",
       "\n",
       "     Sp. Def  Speed  Generation  Legendary  \n",
       "313       65    100           3      False  "
      ]
     },
     "execution_count": 17,
     "metadata": {},
     "output_type": "execute_result"
    }
   ],
   "source": [
    "best_non_legendary = non_legendary_pkmn[non_legendary_pkmn['Total']==non_legendary_pkmn['Total'].max()]\n",
    "best_non_legendary"
   ]
  },
  {
   "cell_type": "markdown",
   "id": "fdf9f0dd-55d5-4157-a4c5-05e50ee2acd6",
   "metadata": {},
   "source": [
    "- It looks like Slaking has the highest stat total of all non-legendary pokemon at 670\n",
    "- Interestingly this is much higher than alot of legendary pokemon who we saw had a stat total of 580\n",
    "- Lets get a look at all non-legendary pokemon that have a stat total greater than 580 the miminum number for legendary pokemon"
   ]
  },
  {
   "cell_type": "code",
   "execution_count": 18,
   "id": "8fc4b32c-32e6-456a-9f5b-480a0b32d237",
   "metadata": {},
   "outputs": [
    {
     "data": {
      "text/html": [
       "<div>\n",
       "<style scoped>\n",
       "    .dataframe tbody tr th:only-of-type {\n",
       "        vertical-align: middle;\n",
       "    }\n",
       "\n",
       "    .dataframe tbody tr th {\n",
       "        vertical-align: top;\n",
       "    }\n",
       "\n",
       "    .dataframe thead th {\n",
       "        text-align: right;\n",
       "    }\n",
       "</style>\n",
       "<table border=\"1\" class=\"dataframe\">\n",
       "  <thead>\n",
       "    <tr style=\"text-align: right;\">\n",
       "      <th></th>\n",
       "      <th>#</th>\n",
       "      <th>Name</th>\n",
       "      <th>Type 1</th>\n",
       "      <th>Type 2</th>\n",
       "      <th>Total</th>\n",
       "      <th>HP</th>\n",
       "      <th>Attack</th>\n",
       "      <th>Defense</th>\n",
       "      <th>Sp. Atk</th>\n",
       "      <th>Sp. Def</th>\n",
       "      <th>Speed</th>\n",
       "      <th>Generation</th>\n",
       "      <th>Legendary</th>\n",
       "    </tr>\n",
       "  </thead>\n",
       "  <tbody>\n",
       "    <tr>\n",
       "      <th>161</th>\n",
       "      <td>149</td>\n",
       "      <td>Dragonite</td>\n",
       "      <td>Dragon</td>\n",
       "      <td>Flying</td>\n",
       "      <td>600</td>\n",
       "      <td>91</td>\n",
       "      <td>134</td>\n",
       "      <td>95</td>\n",
       "      <td>100</td>\n",
       "      <td>100</td>\n",
       "      <td>80</td>\n",
       "      <td>1</td>\n",
       "      <td>False</td>\n",
       "    </tr>\n",
       "    <tr>\n",
       "      <th>267</th>\n",
       "      <td>248</td>\n",
       "      <td>Tyranitar</td>\n",
       "      <td>Rock</td>\n",
       "      <td>Dark</td>\n",
       "      <td>600</td>\n",
       "      <td>100</td>\n",
       "      <td>134</td>\n",
       "      <td>110</td>\n",
       "      <td>95</td>\n",
       "      <td>100</td>\n",
       "      <td>61</td>\n",
       "      <td>2</td>\n",
       "      <td>False</td>\n",
       "    </tr>\n",
       "    <tr>\n",
       "      <th>313</th>\n",
       "      <td>289</td>\n",
       "      <td>Slaking</td>\n",
       "      <td>Normal</td>\n",
       "      <td>NaN</td>\n",
       "      <td>670</td>\n",
       "      <td>150</td>\n",
       "      <td>160</td>\n",
       "      <td>100</td>\n",
       "      <td>95</td>\n",
       "      <td>65</td>\n",
       "      <td>100</td>\n",
       "      <td>3</td>\n",
       "      <td>False</td>\n",
       "    </tr>\n",
       "    <tr>\n",
       "      <th>408</th>\n",
       "      <td>373</td>\n",
       "      <td>Salamence</td>\n",
       "      <td>Dragon</td>\n",
       "      <td>Flying</td>\n",
       "      <td>600</td>\n",
       "      <td>95</td>\n",
       "      <td>135</td>\n",
       "      <td>80</td>\n",
       "      <td>110</td>\n",
       "      <td>80</td>\n",
       "      <td>100</td>\n",
       "      <td>3</td>\n",
       "      <td>False</td>\n",
       "    </tr>\n",
       "    <tr>\n",
       "      <th>412</th>\n",
       "      <td>376</td>\n",
       "      <td>Metagross</td>\n",
       "      <td>Steel</td>\n",
       "      <td>Psychic</td>\n",
       "      <td>600</td>\n",
       "      <td>80</td>\n",
       "      <td>135</td>\n",
       "      <td>130</td>\n",
       "      <td>95</td>\n",
       "      <td>90</td>\n",
       "      <td>70</td>\n",
       "      <td>3</td>\n",
       "      <td>False</td>\n",
       "    </tr>\n",
       "    <tr>\n",
       "      <th>493</th>\n",
       "      <td>445</td>\n",
       "      <td>Garchomp</td>\n",
       "      <td>Dragon</td>\n",
       "      <td>Ground</td>\n",
       "      <td>600</td>\n",
       "      <td>108</td>\n",
       "      <td>130</td>\n",
       "      <td>95</td>\n",
       "      <td>80</td>\n",
       "      <td>85</td>\n",
       "      <td>102</td>\n",
       "      <td>4</td>\n",
       "      <td>False</td>\n",
       "    </tr>\n",
       "    <tr>\n",
       "      <th>696</th>\n",
       "      <td>635</td>\n",
       "      <td>Hydreigon</td>\n",
       "      <td>Dark</td>\n",
       "      <td>Dragon</td>\n",
       "      <td>600</td>\n",
       "      <td>92</td>\n",
       "      <td>105</td>\n",
       "      <td>90</td>\n",
       "      <td>125</td>\n",
       "      <td>90</td>\n",
       "      <td>98</td>\n",
       "      <td>5</td>\n",
       "      <td>False</td>\n",
       "    </tr>\n",
       "    <tr>\n",
       "      <th>776</th>\n",
       "      <td>706</td>\n",
       "      <td>Goodra</td>\n",
       "      <td>Dragon</td>\n",
       "      <td>NaN</td>\n",
       "      <td>600</td>\n",
       "      <td>90</td>\n",
       "      <td>100</td>\n",
       "      <td>70</td>\n",
       "      <td>110</td>\n",
       "      <td>150</td>\n",
       "      <td>80</td>\n",
       "      <td>6</td>\n",
       "      <td>False</td>\n",
       "    </tr>\n",
       "  </tbody>\n",
       "</table>\n",
       "</div>"
      ],
      "text/plain": [
       "       #       Name  Type 1   Type 2  Total   HP  Attack  Defense  Sp. Atk  \\\n",
       "161  149  Dragonite  Dragon   Flying    600   91     134       95      100   \n",
       "267  248  Tyranitar    Rock     Dark    600  100     134      110       95   \n",
       "313  289    Slaking  Normal      NaN    670  150     160      100       95   \n",
       "408  373  Salamence  Dragon   Flying    600   95     135       80      110   \n",
       "412  376  Metagross   Steel  Psychic    600   80     135      130       95   \n",
       "493  445   Garchomp  Dragon   Ground    600  108     130       95       80   \n",
       "696  635  Hydreigon    Dark   Dragon    600   92     105       90      125   \n",
       "776  706     Goodra  Dragon      NaN    600   90     100       70      110   \n",
       "\n",
       "     Sp. Def  Speed  Generation  Legendary  \n",
       "161      100     80           1      False  \n",
       "267      100     61           2      False  \n",
       "313       65    100           3      False  \n",
       "408       80    100           3      False  \n",
       "412       90     70           3      False  \n",
       "493       85    102           4      False  \n",
       "696       90     98           5      False  \n",
       "776      150     80           6      False  "
      ]
     },
     "execution_count": 18,
     "metadata": {},
     "output_type": "execute_result"
    }
   ],
   "source": [
    "pseudo_legendaries = non_legendary_pkmn[non_legendary_pkmn.Total > 580]\n",
    "pseudo_legendaries"
   ]
  },
  {
   "cell_type": "markdown",
   "id": "bdf8a552-33f3-44a7-a0a4-4f7ad9badba8",
   "metadata": {},
   "source": [
    "### Pseudo-legendaries\n",
    "- These pokemon are commonly referred to by fans as pseudo-legendaries (non official term) \n",
    "- What I find really interesting is that the only pseudo legendary with a base stat total above 600 is slaking and it is at 670 which is significantly greater\n",
    "- A little background knowledge, upon further investigation Slaking has an ability that limits it to making a move once every two turns, with such a a drawback it makes more sense why it has a higher base stat total than other pseudo-legendaries, when building my model I'll consider removing Slaking as it is an outlier and I feel like its ability impacts the meaningfullness of its stats and thus its stats are not fully indicative of it as a Pokemon\n",
    "- Later we will compare the results of our model predictions to this list and check to see the differences"
   ]
  },
  {
   "cell_type": "markdown",
   "id": "ebe7efd5-ac7b-45cb-b088-0e434ff26e30",
   "metadata": {},
   "source": [
    "### Exploratory Data Analysis : How do the Types split among legendaries and non-legendaries?"
   ]
  },
  {
   "cell_type": "code",
   "execution_count": 19,
   "id": "0e8bc69e-a6cf-41cc-b696-0ef76a94d8b1",
   "metadata": {},
   "outputs": [
    {
     "data": {
      "image/png": "[encoded data removed]",
      "text/plain": [
       "<Figure size 432x288 with 1 Axes>"
      ]
     },
     "metadata": {
      "needs_background": "light"
     },
     "output_type": "display_data"
    }
   ],
   "source": [
    "type_colours_l = ['mediumpurple', 'turquoise', 'orangered', 'dodgerblue', 'slategrey', 'gold', 'peru', 'wheat', 'green', 'skyblue', 'saddlebrown', 'mediumslateblue', 'grey', 'thistle', 'olive', 'hotpink']\n",
    "#legendary_types = legendary_pkmn.groupby(by=\"Type 1\").count()\n",
    "#plt.pie(legendary_types.Legendary, labels = type_labels_l, colors = type_colours_l)\n",
    "legendary_pkmn['Type 1'].value_counts().plot(kind='bar', color = type_colours_l)\n",
    "plt.style.use('dark_background')\n",
    "plt.title(\"Legendary Pokemon Types\")\n",
    "plt.show()"
   ]
  },
  {
   "cell_type": "markdown",
   "id": "f3017395-d178-4386-b18d-dbe195be02bd",
   "metadata": {},
   "source": [
    "- Interestingly here if we look at the legendary chart we can see that the majority of the legendary pokemon are either psychic types or dragon types lets see how that compares to non legendaries"
   ]
  },
  {
   "cell_type": "code",
   "execution_count": 20,
   "id": "0f33020b-e435-4890-b28b-78478aaecead",
   "metadata": {},
   "outputs": [
    {
     "data": {
      "image/png": "[encoded data removed]",
      "text/plain": [
       "<Figure size 432x288 with 1 Axes>"
      ]
     },
     "metadata": {},
     "output_type": "display_data"
    }
   ],
   "source": [
    "type_colours = ['dodgerblue', 'wheat', 'olive', 'green', 'orangered', 'gold', 'peru', 'mediumpurple', 'mediumslateblue',\n",
    "                'Indigo', 'saddlebrown', 'grey', 'lightsalmon', 'skyblue', 'slategrey', 'turquoise', 'hotpink', 'thistle']\n",
    "non_legendary_types = non_legendary_pkmn.groupby(by=\"Type 1\").count()\n",
    "non_legendary_pkmn['Type 1'].value_counts().plot(kind='bar', color = type_colours)\n",
    "plt.title(\"Non-Legendary Pokemon Types\")\n",
    "plt.style.use('dark_background')\n",
    "plt.show()"
   ]
  },
  {
   "cell_type": "markdown",
   "id": "74b34d89-079c-47bd-90d8-1141f40a48d2",
   "metadata": {},
   "source": [
    "- Ok a big difference compared to the legendary chart\n",
    "- Here psychic types are right in the middle and dragon types are a very small sliver of the chart\n",
    "- The largest portions are Water and Normal by far then followed by Bug and Grass\n",
    "- Interestingly Poison and Fighting Types are present here when there were no Poison or Fighting type legendaries"
   ]
  },
  {
   "cell_type": "markdown",
   "id": "85a05f5f-b329-4016-9801-97d6288976d5",
   "metadata": {},
   "source": [
    "### Exploratory Data Analysis : How do the Stats Correlate?\n",
    "- In Pokemon generally the different pokemon are designed with a purpose in mind by the game creators\n",
    "- There are bulkier pokemon with high defenses, and frailer pokemon with higher attack stats\n",
    "- Lets build a correlation matrix to investigate this further\n",
    "- Before we do so lets drop the information that isn't as relevant such as pokedex number '#', Total Stats 'Total', and Release Generation 'Generation'"
   ]
  },
  {
   "cell_type": "code",
   "execution_count": 21,
   "id": "49a62c42-d0c0-4a8c-90c6-e15c1ea1d9b7",
   "metadata": {},
   "outputs": [
    {
     "data": {
      "text/html": [
       "<style type=\"text/css\">\n",
       "#T_c862b_row0_col0, #T_c862b_row1_col1, #T_c862b_row2_col2, #T_c862b_row3_col3, #T_c862b_row4_col4, #T_c862b_row5_col5, #T_c862b_row6_col6 {\n",
       "  background-color: #b40426;\n",
       "  color: #f1f1f1;\n",
       "}\n",
       "#T_c862b_row0_col1 {\n",
       "  background-color: #9abbff;\n",
       "  color: #000000;\n",
       "}\n",
       "#T_c862b_row0_col2 {\n",
       "  background-color: #84a7fc;\n",
       "  color: #f1f1f1;\n",
       "}\n",
       "#T_c862b_row0_col3 {\n",
       "  background-color: #80a3fa;\n",
       "  color: #f1f1f1;\n",
       "}\n",
       "#T_c862b_row0_col4 {\n",
       "  background-color: #81a4fb;\n",
       "  color: #f1f1f1;\n",
       "}\n",
       "#T_c862b_row0_col5 {\n",
       "  background-color: #6f92f3;\n",
       "  color: #f1f1f1;\n",
       "}\n",
       "#T_c862b_row0_col6 {\n",
       "  background-color: #3f53c6;\n",
       "  color: #f1f1f1;\n",
       "}\n",
       "#T_c862b_row1_col0 {\n",
       "  background-color: #a2c1ff;\n",
       "  color: #000000;\n",
       "}\n",
       "#T_c862b_row1_col2 {\n",
       "  background-color: #c0d4f5;\n",
       "  color: #000000;\n",
       "}\n",
       "#T_c862b_row1_col3 {\n",
       "  background-color: #7b9ff9;\n",
       "  color: #f1f1f1;\n",
       "}\n",
       "#T_c862b_row1_col4, #T_c862b_row2_col3, #T_c862b_row2_col5, #T_c862b_row2_col6, #T_c862b_row4_col1, #T_c862b_row5_col0, #T_c862b_row5_col2 {\n",
       "  background-color: #3b4cc0;\n",
       "  color: #f1f1f1;\n",
       "}\n",
       "#T_c862b_row1_col5 {\n",
       "  background-color: #adc9fd;\n",
       "  color: #000000;\n",
       "}\n",
       "#T_c862b_row1_col6 {\n",
       "  background-color: #4f69d9;\n",
       "  color: #f1f1f1;\n",
       "}\n",
       "#T_c862b_row2_col0 {\n",
       "  background-color: #506bda;\n",
       "  color: #f1f1f1;\n",
       "}\n",
       "#T_c862b_row2_col1 {\n",
       "  background-color: #90b2fe;\n",
       "  color: #000000;\n",
       "}\n",
       "#T_c862b_row2_col4 {\n",
       "  background-color: #b9d0f9;\n",
       "  color: #000000;\n",
       "}\n",
       "#T_c862b_row3_col0, #T_c862b_row6_col4 {\n",
       "  background-color: #89acfd;\n",
       "  color: #000000;\n",
       "}\n",
       "#T_c862b_row3_col1 {\n",
       "  background-color: #7da0f9;\n",
       "  color: #f1f1f1;\n",
       "}\n",
       "#T_c862b_row3_col2 {\n",
       "  background-color: #799cf8;\n",
       "  color: #f1f1f1;\n",
       "}\n",
       "#T_c862b_row3_col4, #T_c862b_row4_col3 {\n",
       "  background-color: #b2ccfb;\n",
       "  color: #000000;\n",
       "}\n",
       "#T_c862b_row3_col5 {\n",
       "  background-color: #d1dae9;\n",
       "  color: #000000;\n",
       "}\n",
       "#T_c862b_row3_col6 {\n",
       "  background-color: #8caffe;\n",
       "  color: #000000;\n",
       "}\n",
       "#T_c862b_row4_col0 {\n",
       "  background-color: #8badfd;\n",
       "  color: #000000;\n",
       "}\n",
       "#T_c862b_row4_col2 {\n",
       "  background-color: #dcdddd;\n",
       "  color: #000000;\n",
       "}\n",
       "#T_c862b_row4_col5 {\n",
       "  background-color: #86a9fc;\n",
       "  color: #f1f1f1;\n",
       "}\n",
       "#T_c862b_row4_col6 {\n",
       "  background-color: #688aef;\n",
       "  color: #f1f1f1;\n",
       "}\n",
       "#T_c862b_row5_col1 {\n",
       "  background-color: #7597f6;\n",
       "  color: #f1f1f1;\n",
       "}\n",
       "#T_c862b_row5_col3 {\n",
       "  background-color: #a6c4fe;\n",
       "  color: #000000;\n",
       "}\n",
       "#T_c862b_row5_col4 {\n",
       "  background-color: #4961d2;\n",
       "  color: #f1f1f1;\n",
       "}\n",
       "#T_c862b_row5_col6 {\n",
       "  background-color: #5572df;\n",
       "  color: #f1f1f1;\n",
       "}\n",
       "#T_c862b_row6_col0 {\n",
       "  background-color: #6b8df0;\n",
       "  color: #f1f1f1;\n",
       "}\n",
       "#T_c862b_row6_col1 {\n",
       "  background-color: #7295f4;\n",
       "  color: #f1f1f1;\n",
       "}\n",
       "#T_c862b_row6_col2 {\n",
       "  background-color: #98b9ff;\n",
       "  color: #000000;\n",
       "}\n",
       "#T_c862b_row6_col3 {\n",
       "  background-color: #a9c6fd;\n",
       "  color: #000000;\n",
       "}\n",
       "#T_c862b_row6_col5 {\n",
       "  background-color: #aec9fc;\n",
       "  color: #000000;\n",
       "}\n",
       "</style>\n",
       "<table id=\"T_c862b\">\n",
       "  <thead>\n",
       "    <tr>\n",
       "      <th class=\"blank level0\" >&nbsp;</th>\n",
       "      <th id=\"T_c862b_level0_col0\" class=\"col_heading level0 col0\" >HP</th>\n",
       "      <th id=\"T_c862b_level0_col1\" class=\"col_heading level0 col1\" >Attack</th>\n",
       "      <th id=\"T_c862b_level0_col2\" class=\"col_heading level0 col2\" >Defense</th>\n",
       "      <th id=\"T_c862b_level0_col3\" class=\"col_heading level0 col3\" >Sp. Atk</th>\n",
       "      <th id=\"T_c862b_level0_col4\" class=\"col_heading level0 col4\" >Sp. Def</th>\n",
       "      <th id=\"T_c862b_level0_col5\" class=\"col_heading level0 col5\" >Speed</th>\n",
       "      <th id=\"T_c862b_level0_col6\" class=\"col_heading level0 col6\" >Legendary</th>\n",
       "    </tr>\n",
       "  </thead>\n",
       "  <tbody>\n",
       "    <tr>\n",
       "      <th id=\"T_c862b_level0_row0\" class=\"row_heading level0 row0\" >HP</th>\n",
       "      <td id=\"T_c862b_row0_col0\" class=\"data row0 col0\" >1.000000</td>\n",
       "      <td id=\"T_c862b_row0_col1\" class=\"data row0 col1\" >0.424627</td>\n",
       "      <td id=\"T_c862b_row0_col2\" class=\"data row0 col2\" >0.225520</td>\n",
       "      <td id=\"T_c862b_row0_col3\" class=\"data row0 col3\" >0.364928</td>\n",
       "      <td id=\"T_c862b_row0_col4\" class=\"data row0 col4\" >0.368845</td>\n",
       "      <td id=\"T_c862b_row0_col5\" class=\"data row0 col5\" >0.166232</td>\n",
       "      <td id=\"T_c862b_row0_col6\" class=\"data row0 col6\" >0.296123</td>\n",
       "    </tr>\n",
       "    <tr>\n",
       "      <th id=\"T_c862b_level0_row1\" class=\"row_heading level0 row1\" >Attack</th>\n",
       "      <td id=\"T_c862b_row1_col0\" class=\"data row1 col0\" >0.424627</td>\n",
       "      <td id=\"T_c862b_row1_col1\" class=\"data row1 col1\" >1.000000</td>\n",
       "      <td id=\"T_c862b_row1_col2\" class=\"data row1 col2\" >0.402556</td>\n",
       "      <td id=\"T_c862b_row1_col3\" class=\"data row1 col3\" >0.358214</td>\n",
       "      <td id=\"T_c862b_row1_col4\" class=\"data row1 col4\" >0.194554</td>\n",
       "      <td id=\"T_c862b_row1_col5\" class=\"data row1 col5\" >0.341483</td>\n",
       "      <td id=\"T_c862b_row1_col6\" class=\"data row1 col6\" >0.333934</td>\n",
       "    </tr>\n",
       "    <tr>\n",
       "      <th id=\"T_c862b_level0_row2\" class=\"row_heading level0 row2\" >Defense</th>\n",
       "      <td id=\"T_c862b_row2_col0\" class=\"data row2 col0\" >0.225520</td>\n",
       "      <td id=\"T_c862b_row2_col1\" class=\"data row2 col1\" >0.402556</td>\n",
       "      <td id=\"T_c862b_row2_col2\" class=\"data row2 col2\" >1.000000</td>\n",
       "      <td id=\"T_c862b_row2_col3\" class=\"data row2 col3\" >0.195034</td>\n",
       "      <td id=\"T_c862b_row2_col4\" class=\"data row2 col4\" >0.499445</td>\n",
       "      <td id=\"T_c862b_row2_col5\" class=\"data row2 col5\" >0.001769</td>\n",
       "      <td id=\"T_c862b_row2_col6\" class=\"data row2 col6\" >0.283776</td>\n",
       "    </tr>\n",
       "    <tr>\n",
       "      <th id=\"T_c862b_level0_row3\" class=\"row_heading level0 row3\" >Sp. Atk</th>\n",
       "      <td id=\"T_c862b_row3_col0\" class=\"data row3 col0\" >0.364928</td>\n",
       "      <td id=\"T_c862b_row3_col1\" class=\"data row3 col1\" >0.358214</td>\n",
       "      <td id=\"T_c862b_row3_col2\" class=\"data row3 col2\" >0.195034</td>\n",
       "      <td id=\"T_c862b_row3_col3\" class=\"data row3 col3\" >1.000000</td>\n",
       "      <td id=\"T_c862b_row3_col4\" class=\"data row3 col4\" >0.483639</td>\n",
       "      <td id=\"T_c862b_row3_col5\" class=\"data row3 col5\" >0.454167</td>\n",
       "      <td id=\"T_c862b_row3_col6\" class=\"data row3 col6\" >0.460536</td>\n",
       "    </tr>\n",
       "    <tr>\n",
       "      <th id=\"T_c862b_level0_row4\" class=\"row_heading level0 row4\" >Sp. Def</th>\n",
       "      <td id=\"T_c862b_row4_col0\" class=\"data row4 col0\" >0.368845</td>\n",
       "      <td id=\"T_c862b_row4_col1\" class=\"data row4 col1\" >0.194554</td>\n",
       "      <td id=\"T_c862b_row4_col2\" class=\"data row4 col2\" >0.499445</td>\n",
       "      <td id=\"T_c862b_row4_col3\" class=\"data row4 col3\" >0.483639</td>\n",
       "      <td id=\"T_c862b_row4_col4\" class=\"data row4 col4\" >1.000000</td>\n",
       "      <td id=\"T_c862b_row4_col5\" class=\"data row4 col5\" >0.234716</td>\n",
       "      <td id=\"T_c862b_row4_col6\" class=\"data row4 col6\" >0.389430</td>\n",
       "    </tr>\n",
       "    <tr>\n",
       "      <th id=\"T_c862b_level0_row5\" class=\"row_heading level0 row5\" >Speed</th>\n",
       "      <td id=\"T_c862b_row5_col0\" class=\"data row5 col0\" >0.166232</td>\n",
       "      <td id=\"T_c862b_row5_col1\" class=\"data row5 col1\" >0.341483</td>\n",
       "      <td id=\"T_c862b_row5_col2\" class=\"data row5 col2\" >0.001769</td>\n",
       "      <td id=\"T_c862b_row5_col3\" class=\"data row5 col3\" >0.454167</td>\n",
       "      <td id=\"T_c862b_row5_col4\" class=\"data row5 col4\" >0.234716</td>\n",
       "      <td id=\"T_c862b_row5_col5\" class=\"data row5 col5\" >1.000000</td>\n",
       "      <td id=\"T_c862b_row5_col6\" class=\"data row5 col6\" >0.347775</td>\n",
       "    </tr>\n",
       "    <tr>\n",
       "      <th id=\"T_c862b_level0_row6\" class=\"row_heading level0 row6\" >Legendary</th>\n",
       "      <td id=\"T_c862b_row6_col0\" class=\"data row6 col0\" >0.296123</td>\n",
       "      <td id=\"T_c862b_row6_col1\" class=\"data row6 col1\" >0.333934</td>\n",
       "      <td id=\"T_c862b_row6_col2\" class=\"data row6 col2\" >0.283776</td>\n",
       "      <td id=\"T_c862b_row6_col3\" class=\"data row6 col3\" >0.460536</td>\n",
       "      <td id=\"T_c862b_row6_col4\" class=\"data row6 col4\" >0.389430</td>\n",
       "      <td id=\"T_c862b_row6_col5\" class=\"data row6 col5\" >0.347775</td>\n",
       "      <td id=\"T_c862b_row6_col6\" class=\"data row6 col6\" >1.000000</td>\n",
       "    </tr>\n",
       "  </tbody>\n",
       "</table>\n"
      ],
      "text/plain": [
       "<pandas.io.formats.style.Styler at 0x7f74e97ddf60>"
      ]
     },
     "execution_count": 21,
     "metadata": {},
     "output_type": "execute_result"
    }
   ],
   "source": [
    "pkmn_corr = pkmn.drop(columns=['#', 'Total', 'Generation'])\n",
    "pkmn_corr_matrix = pkmn_corr.corr()\n",
    "pkmn_corr_matrix.style.background_gradient(cmap='coolwarm')"
   ]
  },
  {
   "cell_type": "markdown",
   "id": "066e66cd-6a23-4126-b336-76b1a2360e84",
   "metadata": {},
   "source": [
    "- Alright lets examine this correlation matrix and see what we can learn from it\n",
    "- It looks like the most closely correlated pairs of stats are Special Defense and Defense, followed by Special Attack and Special Defense, and then Special Attack and Speed\n",
    "    - Special Defense and Defense makes sense to be highly correlated. The high correlation represents an overall defensive pokemon.\n",
    "    - Special Attack and Special Defense being correlated was somewhat surprising to me but it represents a non physical pokemon \n",
    "    - Special Attack and Speed was a pairing I expect it represents a fast special attacking pokemon, having a background with these games this is extremely common as some early Electric Type Pokemon would use Special Attacks but be really fast, a common theme\n",
    "- Conversley, the least correlated pairs of stats are Defense and Speed, HP and Speed, and then Special Defense and Attack\n",
    "    - Defense and Speed being not at all correlated makes sense, a fast defensive pokemon wouldn't have as much use in the game as a fast attacking pokemon\n",
    "    - HP and Speed not being highly correlated also makes sense as a bulky pokemon that always went first would generally be considered overpowered and hard to defeat\n",
    "    - Special Defense and Attack not being highly correlated was surprising but makes sense, this would have to do with the split betwee special and physical. Specially Defensive pokemon not having as high a correlation with physical attacks as they do special attacks makes sense\n",
    "- Next lets consider the stats that have the highest correlation with the legendary status. It looks like Special Attack, Special Defense, Attack and Speed have the highest correlation\n",
    "    - This makes some sense to me, as we learned earlier the Psychic Type has the most legendaries of any type and the psychic type is generally a Special type. Thus the high special attack, and special defense makes sense\n",
    "    - The next highest being attack is a little interesting, perhaps offensive legendaries are more overall common than defensive legendaries\n",
    " \n",
    " - Now lets take a look at a correlation matrix of just legendary pokemon and see if we have a noticeable difference"
   ]
  },
  {
   "cell_type": "code",
   "execution_count": 40,
   "id": "a6b94d0f-7a0d-4415-b0e3-51b95d917199",
   "metadata": {},
   "outputs": [
    {
     "data": {
      "text/html": [
       "<style type=\"text/css\">\n",
       "#T_c911c_row0_col0, #T_c911c_row1_col1, #T_c911c_row2_col2, #T_c911c_row3_col3, #T_c911c_row4_col4, #T_c911c_row5_col5 {\n",
       "  background-color: #b40426;\n",
       "  color: #f1f1f1;\n",
       "}\n",
       "#T_c911c_row0_col1 {\n",
       "  background-color: #c7d7f0;\n",
       "  color: #000000;\n",
       "}\n",
       "#T_c911c_row0_col2 {\n",
       "  background-color: #d1dae9;\n",
       "  color: #000000;\n",
       "}\n",
       "#T_c911c_row0_col3 {\n",
       "  background-color: #bed2f6;\n",
       "  color: #000000;\n",
       "}\n",
       "#T_c911c_row0_col4 {\n",
       "  background-color: #bfd3f6;\n",
       "  color: #000000;\n",
       "}\n",
       "#T_c911c_row0_col5 {\n",
       "  background-color: #93b5fe;\n",
       "  color: #000000;\n",
       "}\n",
       "#T_c911c_row1_col0 {\n",
       "  background-color: #90b2fe;\n",
       "  color: #000000;\n",
       "}\n",
       "#T_c911c_row1_col2 {\n",
       "  background-color: #7da0f9;\n",
       "  color: #f1f1f1;\n",
       "}\n",
       "#T_c911c_row1_col3 {\n",
       "  background-color: #f7b99e;\n",
       "  color: #000000;\n",
       "}\n",
       "#T_c911c_row1_col4 {\n",
       "  background-color: #4b64d5;\n",
       "  color: #f1f1f1;\n",
       "}\n",
       "#T_c911c_row1_col5 {\n",
       "  background-color: #dfdbd9;\n",
       "  color: #000000;\n",
       "}\n",
       "#T_c911c_row2_col0 {\n",
       "  background-color: #84a7fc;\n",
       "  color: #f1f1f1;\n",
       "}\n",
       "#T_c911c_row2_col1 {\n",
       "  background-color: #5f7fe8;\n",
       "  color: #f1f1f1;\n",
       "}\n",
       "#T_c911c_row2_col3, #T_c911c_row3_col2, #T_c911c_row4_col1, #T_c911c_row4_col5, #T_c911c_row5_col0, #T_c911c_row5_col4 {\n",
       "  background-color: #3b4cc0;\n",
       "  color: #f1f1f1;\n",
       "}\n",
       "#T_c911c_row2_col4 {\n",
       "  background-color: #f5c1a9;\n",
       "  color: #000000;\n",
       "}\n",
       "#T_c911c_row2_col5 {\n",
       "  background-color: #4055c8;\n",
       "  color: #f1f1f1;\n",
       "}\n",
       "#T_c911c_row3_col0 {\n",
       "  background-color: #6485ec;\n",
       "  color: #f1f1f1;\n",
       "}\n",
       "#T_c911c_row3_col1 {\n",
       "  background-color: #f5c4ac;\n",
       "  color: #000000;\n",
       "}\n",
       "#T_c911c_row3_col4 {\n",
       "  background-color: #7093f3;\n",
       "  color: #f1f1f1;\n",
       "}\n",
       "#T_c911c_row3_col5 {\n",
       "  background-color: #e5d8d1;\n",
       "  color: #000000;\n",
       "}\n",
       "#T_c911c_row4_col0 {\n",
       "  background-color: #7396f5;\n",
       "  color: #f1f1f1;\n",
       "}\n",
       "#T_c911c_row4_col2 {\n",
       "  background-color: #f6bda2;\n",
       "  color: #000000;\n",
       "}\n",
       "#T_c911c_row4_col3 {\n",
       "  background-color: #7b9ff9;\n",
       "  color: #f1f1f1;\n",
       "}\n",
       "#T_c911c_row5_col1 {\n",
       "  background-color: #d8dce2;\n",
       "  color: #000000;\n",
       "}\n",
       "#T_c911c_row5_col2 {\n",
       "  background-color: #4c66d6;\n",
       "  color: #f1f1f1;\n",
       "}\n",
       "#T_c911c_row5_col3 {\n",
       "  background-color: #ead5c9;\n",
       "  color: #000000;\n",
       "}\n",
       "</style>\n",
       "<table id=\"T_c911c\">\n",
       "  <thead>\n",
       "    <tr>\n",
       "      <th class=\"blank level0\" >&nbsp;</th>\n",
       "      <th id=\"T_c911c_level0_col0\" class=\"col_heading level0 col0\" >HP</th>\n",
       "      <th id=\"T_c911c_level0_col1\" class=\"col_heading level0 col1\" >Attack</th>\n",
       "      <th id=\"T_c911c_level0_col2\" class=\"col_heading level0 col2\" >Defense</th>\n",
       "      <th id=\"T_c911c_level0_col3\" class=\"col_heading level0 col3\" >Sp. Atk</th>\n",
       "      <th id=\"T_c911c_level0_col4\" class=\"col_heading level0 col4\" >Sp. Def</th>\n",
       "      <th id=\"T_c911c_level0_col5\" class=\"col_heading level0 col5\" >Speed</th>\n",
       "    </tr>\n",
       "  </thead>\n",
       "  <tbody>\n",
       "    <tr>\n",
       "      <th id=\"T_c911c_level0_row0\" class=\"row_heading level0 row0\" >HP</th>\n",
       "      <td id=\"T_c911c_row0_col0\" class=\"data row0 col0\" >1.000000</td>\n",
       "      <td id=\"T_c911c_row0_col1\" class=\"data row0 col1\" >0.138402</td>\n",
       "      <td id=\"T_c911c_row0_col2\" class=\"data row0 col2\" >0.099209</td>\n",
       "      <td id=\"T_c911c_row0_col3\" class=\"data row0 col3\" >-0.005198</td>\n",
       "      <td id=\"T_c911c_row0_col4\" class=\"data row0 col4\" >0.044825</td>\n",
       "      <td id=\"T_c911c_row0_col5\" class=\"data row0 col5\" >-0.162008</td>\n",
       "    </tr>\n",
       "    <tr>\n",
       "      <th id=\"T_c911c_level0_row1\" class=\"row_heading level0 row1\" >Attack</th>\n",
       "      <td id=\"T_c911c_row1_col0\" class=\"data row1 col0\" >0.138402</td>\n",
       "      <td id=\"T_c911c_row1_col1\" class=\"data row1 col1\" >1.000000</td>\n",
       "      <td id=\"T_c911c_row1_col2\" class=\"data row1 col2\" >-0.313292</td>\n",
       "      <td id=\"T_c911c_row1_col3\" class=\"data row1 col3\" >0.443359</td>\n",
       "      <td id=\"T_c911c_row1_col4\" class=\"data row1 col4\" >-0.493053</td>\n",
       "      <td id=\"T_c911c_row1_col5\" class=\"data row1 col5\" >0.224511</td>\n",
       "    </tr>\n",
       "    <tr>\n",
       "      <th id=\"T_c911c_level0_row2\" class=\"row_heading level0 row2\" >Defense</th>\n",
       "      <td id=\"T_c911c_row2_col0\" class=\"data row2 col0\" >0.099209</td>\n",
       "      <td id=\"T_c911c_row2_col1\" class=\"data row2 col1\" >-0.313292</td>\n",
       "      <td id=\"T_c911c_row2_col2\" class=\"data row2 col2\" >1.000000</td>\n",
       "      <td id=\"T_c911c_row2_col3\" class=\"data row2 col3\" >-0.652281</td>\n",
       "      <td id=\"T_c911c_row2_col4\" class=\"data row2 col4\" >0.420403</td>\n",
       "      <td id=\"T_c911c_row2_col5\" class=\"data row2 col5\" >-0.549719</td>\n",
       "    </tr>\n",
       "    <tr>\n",
       "      <th id=\"T_c911c_level0_row3\" class=\"row_heading level0 row3\" >Sp. Atk</th>\n",
       "      <td id=\"T_c911c_row3_col0\" class=\"data row3 col0\" >-0.005198</td>\n",
       "      <td id=\"T_c911c_row3_col1\" class=\"data row3 col1\" >0.443359</td>\n",
       "      <td id=\"T_c911c_row3_col2\" class=\"data row3 col2\" >-0.652281</td>\n",
       "      <td id=\"T_c911c_row3_col3\" class=\"data row3 col3\" >1.000000</td>\n",
       "      <td id=\"T_c911c_row3_col4\" class=\"data row3 col4\" >-0.317205</td>\n",
       "      <td id=\"T_c911c_row3_col5\" class=\"data row3 col5\" >0.257901</td>\n",
       "    </tr>\n",
       "    <tr>\n",
       "      <th id=\"T_c911c_level0_row4\" class=\"row_heading level0 row4\" >Sp. Def</th>\n",
       "      <td id=\"T_c911c_row4_col0\" class=\"data row4 col0\" >0.044825</td>\n",
       "      <td id=\"T_c911c_row4_col1\" class=\"data row4 col1\" >-0.493053</td>\n",
       "      <td id=\"T_c911c_row4_col2\" class=\"data row4 col2\" >0.420403</td>\n",
       "      <td id=\"T_c911c_row4_col3\" class=\"data row4 col3\" >-0.317205</td>\n",
       "      <td id=\"T_c911c_row4_col4\" class=\"data row4 col4\" >1.000000</td>\n",
       "      <td id=\"T_c911c_row4_col5\" class=\"data row4 col5\" >-0.584378</td>\n",
       "    </tr>\n",
       "    <tr>\n",
       "      <th id=\"T_c911c_level0_row5\" class=\"row_heading level0 row5\" >Speed</th>\n",
       "      <td id=\"T_c911c_row5_col0\" class=\"data row5 col0\" >-0.162008</td>\n",
       "      <td id=\"T_c911c_row5_col1\" class=\"data row5 col1\" >0.224511</td>\n",
       "      <td id=\"T_c911c_row5_col2\" class=\"data row5 col2\" >-0.549719</td>\n",
       "      <td id=\"T_c911c_row5_col3\" class=\"data row5 col3\" >0.257901</td>\n",
       "      <td id=\"T_c911c_row5_col4\" class=\"data row5 col4\" >-0.584378</td>\n",
       "      <td id=\"T_c911c_row5_col5\" class=\"data row5 col5\" >1.000000</td>\n",
       "    </tr>\n",
       "  </tbody>\n",
       "</table>\n"
      ],
      "text/plain": [
       "<pandas.io.formats.style.Styler at 0x7f74e97dec20>"
      ]
     },
     "execution_count": 40,
     "metadata": {},
     "output_type": "execute_result"
    }
   ],
   "source": [
    "legendary_pkmn_corr = legendary_pkmn.drop(columns=['#', 'Total', 'Generation', 'Legendary'])\n",
    "legendary_pkmn_corr_matrix = legendary_pkmn_corr.corr()\n",
    "legendary_pkmn_corr_matrix.style.background_gradient(cmap='coolwarm')"
   ]
  },
  {
   "cell_type": "markdown",
   "id": "347ec4f3-e368-4a03-b6ee-142ce6b58d06",
   "metadata": {},
   "source": [
    "- Woah really interesting trends emerged when we looked just at legendaries and their stat correlations\n",
    "- First the new most highly correlated pairs of stats are Attack and Special Attack, and Defense and Special Defense\n",
    "    - This was a surprisng change but thinking about legendary pokemon being rarer and more deliberately designed these correlations make some sense\n",
    "    - The high correlation between Attack and Special Attack represents an offensive Pokemon with an emphasis on attacking and dealing alot of damage, if you look both of these stats also have the highest correlation with the speed stat. This would represent fast, offensive pokemon who hit first and for a lot of damage. A deliberate design choice and a common theme in legendaries.\n",
    "    - The high correlation between Defense and Special Defense represents a defensive Pokemon with an emphasis on taking a strong attack but not taking a ton of damage from it, if you look at both of these stats they also have a negative correlation with the speed stat. This makes sense, a defensive pokemon who doesn't deal damage wouldn't really benefit from going before others as much as an offensive pokemon would. This would represent a tanky bulky pokemon\n",
    "- The lowest correlations in this matrix are actually negative : Special Attack and Defense, Defense and Speed, Special Defense and Speed, and Attack and Special Defense\n",
    "    - We discussed above why Defense and Speed and Special Defense and Speed are negatively Correlated so lets focus here on the other pairings\n",
    "    - The low correlation between Special Attack and Defense represents the split between special and physical which is somewhat expected. A physically bulky pokemon having a low special attack stat seems standard\n",
    "    - Similarly the low correlation between Attack and Special Defense is expected as well. A specially bulky pokemon having a low physical attack stat is standard as well"
   ]
  },
  {
   "cell_type": "markdown",
   "id": "09b5c2cb-1cea-4d96-b496-35e23a10fc78",
   "metadata": {},
   "source": [
    "## Model Approach"
   ]
  },
  {
   "cell_type": "markdown",
   "id": "35052c5a-4ca5-4cc5-8fc1-65ebb4c884be",
   "metadata": {},
   "source": [
    "### Model Approach : Logistic Regression and KNN\n",
    "- I've chosen to analyze this data using Logistic Regression and KNN\n",
    "- As I have one dependent variable (the legendary status) and several continuous predictor variables (stats) this seemed like the logical choice\n",
    "- This should allow me to create a model that predicts legendary status using stats rather nicely\n",
    "- As multiple linear regression determines correlation and not causation this works perfectly as there is no one stat that determines a legendary Pokemon and as we've shown in our analysis of \"pseudolegendary\" Pokemon, the total stats of some non-legendary pokemon can outweight the total stats of some legendary pokemon\n"
   ]
  },
  {
   "cell_type": "markdown",
   "id": "cb1ff665-b752-4635-a48e-5fe2eaebb8f2",
   "metadata": {},
   "source": [
    "### Model Approach : Potential Problems and How I plan to address them\n",
    "- I'll need to examine the relationship between my stats to determine if I'll have issues with Collinearity. If two stats are too highly correlated \"Attack and Special Attack for example\" then I'll need to address this\n",
    "    - Using the physical special split I described earlier as well as the information from my correlation matrix I should be able to determine whether I need to combine some of these stats back into their original form of physical and special\n",
    "    - This will be a big one for me to address\n",
    "- There are some cases where Pokemon with high stat totals such as the pseudo-legendaries described earlier may prove to be Outliers or High Leverage, I'll need to keep an eye on this\n",
    "    - I've already made an important note of the Pokemon Slaking which has an exceptionally high stat total even for a pseudo-legendary pokemon and thus I'm already considering its removal. This is especially important as its ability makes it significantly weaker having it only attack once every two turns. This may lead to the stats of slaking throwing off my model as they aren't very representative for pokemon overall. Slaking I consider an outlier as it is not a legendary but has a very high stat total. I'll need to see how my model performs with and without slaking\n",
    "- I'll need to examine the error rate and accuracy as the K changes for my KNN models\n",
    "    - This should be easy enough to plot"
   ]
  },
  {
   "cell_type": "markdown",
   "id": "751d59e4-a343-40de-99f8-84b45e4b01f8",
   "metadata": {},
   "source": [
    "### Models : Final Data Preparations\n",
    "There are a few changes that I still want to make to my dataset that I think will help the model\n",
    "- To begin I'm going to rename the Sp. Atk and Sp.Def columns to make them easier to work with\n",
    "- As I had previously discussed the pokemon \"Slaking\" has a special ability that prevents it from acting every other turn. This changes how its stats interact with the game and as I have no way reflect that in my model I will be dropping that observation\n",
    "- Next I'll be dropping the #, Name, Type 1, Type 2, and Generation Columns as I won't be using them in my model\n",
    "- All stats are not necessarily on the same range so I've decided to normalize the stats\n",
    "\n"
   ]
  },
  {
   "cell_type": "code",
   "execution_count": 23,
   "id": "b4abc429-f9e7-4e87-919a-d65e034f9fa9",
   "metadata": {},
   "outputs": [],
   "source": [
    "pkmn_model = pkmn\n",
    "pkmn_model = pkmn_model.rename(columns={\"Sp. Atk\" : \"Sp_Atk\", \"Sp. Def\" : \"Sp_Def\"})\n",
    "pkmn_model = pkmn_model[pkmn_model[\"Name\"].str.contains(\"Slaking\")==False]\n",
    "pseudo_set = pkmn_model.copy()\n",
    "pkmn_model = pkmn_model.drop(['#','Name', 'Type 1', 'Type 2', 'Generation', 'Total'], axis=1)\n",
    "cols = pkmn_model.columns\n",
    "min_max_scaler = preprocessing.MinMaxScaler()\n",
    "np_scaled = min_max_scaler.fit_transform(pkmn_model)\n",
    "pkmn_normalized = pd.DataFrame(np_scaled, columns=cols)\n",
    "pkmn_model = pkmn_normalized"
   ]
  },
  {
   "cell_type": "markdown",
   "id": "1aa75f47-0f53-4606-a46d-52ee0ae1b53b",
   "metadata": {},
   "source": [
    "### Model : Training and Testing Split\n",
    "- I've decided to do an even odds split in my data for the training and testing split\n",
    "- The reason I've chosen this and not to do a random split is because legendary pokemon often follow one another sequentially, thus choosing randomly could lead to some class imbalance issues when trying to make my model"
   ]
  },
  {
   "cell_type": "markdown",
   "id": "84cdbc2c-06b8-4281-bbdb-280df602e095",
   "metadata": {},
   "source": [
    "\n"
   ]
  },
  {
   "cell_type": "code",
   "execution_count": 24,
   "id": "56f742f5-4d21-497a-b7c9-c06e7343634f",
   "metadata": {},
   "outputs": [
    {
     "name": "stdout",
     "output_type": "stream",
     "text": [
      "X training set shape:  (372, 6)\n",
      "Y training set shape:  (372,)\n",
      "X training set shape:  (372, 6)\n",
      "Y training set shape:  (372,)\n"
     ]
    }
   ],
   "source": [
    "pkmn_x = pkmn_model.drop(\"Legendary\", axis=1)\n",
    "pkmn_y = pkmn_model['Legendary']\n",
    "pkmn_train_x = pkmn_x[::2]\n",
    "pkmn_train_y = pkmn_y[::2]\n",
    "pkmn_test_x = pkmn_x[1::2]\n",
    "pkmn_test_y = pkmn_y[1::2]\n",
    "print(\"X training set shape: \", pkmn_train_x.shape)\n",
    "print(\"Y training set shape: \", pkmn_train_y.shape)\n",
    "print(\"X training set shape: \", pkmn_test_x.shape)\n",
    "print(\"Y training set shape: \", pkmn_test_y.shape)"
   ]
  },
  {
   "cell_type": "markdown",
   "id": "f95634ac-9eb1-4c61-ba80-e2bc2247214a",
   "metadata": {},
   "source": [
    "### Model : Logistic Regression Model\n",
    "Here we are going to fit and test a few different logistic models\n",
    "- First we are going to try using Sklearn's logistic regression model\n",
    "- Then we are going to try the smf logit regression\n",
    "- Next we are going to test some interaction terms with our model"
   ]
  },
  {
   "cell_type": "code",
   "execution_count": 25,
   "id": "bb3ecd42-07dd-4bf2-ba86-0647632828a1",
   "metadata": {},
   "outputs": [],
   "source": [
    "lr_pkmn = LogisticRegression(solver='lbfgs', max_iter=1000)\n",
    "ypkmn1, Xpkmn1 = patsy.dmatrices(\"C(Legendary, [[0], [1]]) ~ 0 + HP*Attack*Defense*Sp_Atk*Sp_Def*Speed\", data=pkmn_model)\n",
    "legendary_model_lr = lr_pkmn.fit(pkmn_train_x, pkmn_train_y)\n",
    "legendary_prediction_lr = legendary_model_lr.predict(pkmn_test_x)\n",
    "legendary_model_cm = metrics.confusion_matrix(pkmn_test_y, legendary_prediction_lr)\n"
   ]
  },
  {
   "cell_type": "code",
   "execution_count": 26,
   "id": "c4ebcc03-85e9-4b3a-821c-2e1563e40b85",
   "metadata": {},
   "outputs": [
    {
     "name": "stdout",
     "output_type": "stream",
     "text": [
      "Accuracy for Logistic Regression Model:  0.9301075268817204\n"
     ]
    },
    {
     "data": {
      "image/png": "[encoded data removed]",
      "text/plain": [
       "<Figure size 432x288 with 2 Axes>"
      ]
     },
     "metadata": {},
     "output_type": "display_data"
    }
   ],
   "source": [
    "class_names = [\"Non-Legendary\", \"Legendary\"]\n",
    "fig,ax = plt.subplots()\n",
    "tick_marks = np.arange(len(class_names))\n",
    "plt.xticks(tick_marks, class_names)\n",
    "plt.yticks(tick_marks, class_names)\n",
    "sns.heatmap(pd.DataFrame(legendary_model_cm), cmap=\"YlGnBu\", annot=True, fmt='g')\n",
    "ax.xaxis.set_label_position(\"top\")\n",
    "plt.tight_layout()\n",
    "plt.title(\"Confusion Matrix\", y=1.1)\n",
    "plt.ylabel(\"Actual Legendary Status\")\n",
    "plt.xlabel(\"Predicted Legendary Status\")\n",
    "print(\"Accuracy for Logistic Regression Model: \", legendary_model_lr.score(pkmn_test_x, pkmn_test_y))"
   ]
  },
  {
   "cell_type": "code",
   "execution_count": 27,
   "id": "dfedf963-4858-4d1a-9314-29a8ebe27908",
   "metadata": {},
   "outputs": [
    {
     "name": "stdout",
     "output_type": "stream",
     "text": [
      "Optimization terminated successfully.\n",
      "         Current function value: 0.014225\n",
      "         Iterations 16\n",
      "                           Logit Regression Results                           \n",
      "==============================================================================\n",
      "Dep. Variable:              Legendary   No. Observations:                  372\n",
      "Model:                          Logit   Df Residuals:                      365\n",
      "Method:                           MLE   Df Model:                            6\n",
      "Date:                Tue, 13 Dec 2022   Pseudo R-squ.:                  0.9493\n",
      "Time:                        04:33:07   Log-Likelihood:                -5.2915\n",
      "converged:                       True   LL-Null:                       -104.29\n",
      "Covariance Type:            nonrobust   LLR p-value:                 5.078e-40\n",
      "==============================================================================\n",
      "                 coef    std err          z      P>|z|      [0.025      0.975]\n",
      "------------------------------------------------------------------------------\n",
      "Intercept   -172.7100     96.533     -1.789      0.074    -361.911      16.491\n",
      "HP            72.5793     47.720      1.521      0.128     -20.951     166.109\n",
      "Attack        20.3171     10.431      1.948      0.051      -0.128      40.762\n",
      "Sp_Atk        58.3835     35.739      1.634      0.102     -11.663     128.430\n",
      "Sp_Def        54.7806     27.772      1.972      0.049       0.348     109.214\n",
      "Defense      101.0392     60.018      1.683      0.092     -16.595     218.673\n",
      "Speed         90.4808     49.774      1.818      0.069      -7.074     188.036\n",
      "==============================================================================\n",
      "\n",
      "Possibly complete quasi-separation: A fraction 0.92 of observations can be\n",
      "perfectly predicted. This might indicate that there is complete\n",
      "quasi-separation. In this case some parameters will not be identified.\n"
     ]
    }
   ],
   "source": [
    "pkmn_model2 = pkmn_model\n",
    "pkmn_model2[\"Legendary\"] = pkmn_model2[\"Legendary\"].astype(int)\n",
    "pkmn_train2 = pkmn_model2[::2]\n",
    "pkmn_test2 = pkmn_model2[1::2]\n",
    "log_reg = smf.logit(\"Legendary ~ HP + Attack + Sp_Atk + Sp_Def + Defense + Speed\", data=pkmn_train2).fit()\n",
    "legendary_predictions2 = log_reg.predict(pkmn_test2)\n",
    "print(log_reg.summary())"
   ]
  },
  {
   "cell_type": "markdown",
   "id": "2bbb1797-48a5-4f65-8864-0bbab3fe7ae9",
   "metadata": {},
   "source": [
    "Both of these models look alright with a Adj R-squared of .94 and .90 but lets see if we can do better\n",
    "- I'm going to try a few different interaction terms that I was curious about during my EDA\n",
    "- I was curious about the interaction between Sp_Atk and Atk so I'll create an \"offensive\" interaction term to represent offensive stats\n",
    "- I also wanted to investigate the interaction between Sp_Def and Def so I'll similarly create a \"defensive\" interaction term to represent defensive stats\n",
    "- Lastly I was curious about the interaction between Sp_Atk and Sp_Def so I'll create an interaction term called \"special\" to check special stats"
   ]
  },
  {
   "cell_type": "code",
   "execution_count": 28,
   "id": "dcba1106-48aa-4b8d-add9-f88a910475e7",
   "metadata": {},
   "outputs": [
    {
     "name": "stdout",
     "output_type": "stream",
     "text": [
      "Optimization terminated successfully.\n",
      "         Current function value: 0.024675\n",
      "         Iterations 15\n",
      "                           Logit Regression Results                           \n",
      "==============================================================================\n",
      "Dep. Variable:              Legendary   No. Observations:                  744\n",
      "Model:                          Logit   Df Residuals:                      734\n",
      "Method:                           MLE   Df Model:                            9\n",
      "Date:                Tue, 13 Dec 2022   Pseudo R-squ.:                  0.9140\n",
      "Time:                        04:33:07   Log-Likelihood:                -18.358\n",
      "converged:                       True   LL-Null:                       -213.41\n",
      "Covariance Type:            nonrobust   LLR p-value:                 1.776e-78\n",
      "==============================================================================\n",
      "                 coef    std err          z      P>|z|      [0.025      0.975]\n",
      "------------------------------------------------------------------------------\n",
      "Intercept    -65.5986     24.382     -2.690      0.007    -113.387     -17.811\n",
      "HP            31.3896     12.172      2.579      0.010       7.532      55.247\n",
      "Attack        -1.0752     18.598     -0.058      0.954     -37.526      35.375\n",
      "Sp_Atk        -2.9079     26.970     -0.108      0.914     -55.769      49.953\n",
      "Sp_Def       -10.5881     38.895     -0.272      0.785     -86.821      65.645\n",
      "Defense       34.8905     16.980      2.055      0.040       1.611      68.170\n",
      "Speed         47.1609     14.578      3.235      0.001      18.588      75.733\n",
      "Offensive     24.7093     29.694      0.832      0.405     -33.490      82.908\n",
      "Defensive     36.8953     44.770      0.824      0.410     -50.852     124.643\n",
      "Special       53.0548     48.313      1.098      0.272     -41.636     147.746\n",
      "==============================================================================\n",
      "\n",
      "Possibly complete quasi-separation: A fraction 0.85 of observations can be\n",
      "perfectly predicted. This might indicate that there is complete\n",
      "quasi-separation. In this case some parameters will not be identified.\n"
     ]
    }
   ],
   "source": [
    "pkmn_model2['Offensive'] = pkmn_model2['Attack']*pkmn_model2['Sp_Atk']\n",
    "pkmn_model2['Defensive'] = pkmn_model2['Defense']*pkmn_model2['Sp_Def']\n",
    "pkmn_model2['Special'] = pkmn_model2['Sp_Atk']*pkmn_model2['Sp_Def']\n",
    "\n",
    "log_reg = smf.logit(\"Legendary ~ HP + Attack + Sp_Atk + Sp_Def + Defense + Speed + Offensive + Defensive + Special\", data=pkmn_model2).fit()\n",
    "print(log_reg.summary())"
   ]
  },
  {
   "cell_type": "markdown",
   "id": "633aabaa-babd-4dad-b216-5a870cd7e052",
   "metadata": {},
   "source": [
    "Based on the P-values of our three interaction terms Offensive, Defensive, and Special; I determine that none of the interaction terms is statistically significant at the alpha = 0.05 significance level thus I will not be incorporating them into my model. When comparing the Adj R squared there also isn't very much improvement in the model."
   ]
  },
  {
   "cell_type": "markdown",
   "id": "dac75edf-336e-40a4-bcfe-7492adeea8c7",
   "metadata": {},
   "source": [
    "### Models : KNN\n",
    "- We will now create a similar model\n",
    "- This time using the K nearest neighbors algorithm\n"
   ]
  },
  {
   "cell_type": "code",
   "execution_count": 29,
   "id": "708ad4a0-831e-41a4-b24d-1157ae6bafba",
   "metadata": {},
   "outputs": [
    {
     "name": "stdout",
     "output_type": "stream",
     "text": [
      "For k = 2  the accuracy score is:  0.9623655913978495\n",
      "For k = 3  the accuracy score is:  0.967741935483871\n",
      "For k = 4  the accuracy score is:  0.956989247311828\n",
      "For k = 5  the accuracy score is:  0.956989247311828\n",
      "For k = 6  the accuracy score is:  0.9543010752688172\n",
      "For k = 7  the accuracy score is:  0.9623655913978495\n",
      "For k = 8  the accuracy score is:  0.9543010752688172\n",
      "For k = 9  the accuracy score is:  0.9543010752688172\n",
      "For k = 10  the accuracy score is:  0.9489247311827957\n",
      "For k = 11  the accuracy score is:  0.9543010752688172\n",
      "For k = 12  the accuracy score is:  0.9516129032258065\n",
      "For k = 13  the accuracy score is:  0.9596774193548387\n",
      "For k = 14  the accuracy score is:  0.9543010752688172\n",
      "For k = 15  the accuracy score is:  0.956989247311828\n",
      "For k = 16  the accuracy score is:  0.9516129032258065\n",
      "For k = 17  the accuracy score is:  0.9596774193548387\n",
      "For k = 18  the accuracy score is:  0.956989247311828\n",
      "For k = 19  the accuracy score is:  0.9596774193548387\n",
      "For k = 20  the accuracy score is:  0.9489247311827957\n",
      "For k = 21  the accuracy score is:  0.9543010752688172\n",
      "For k = 22  the accuracy score is:  0.9543010752688172\n",
      "For k = 23  the accuracy score is:  0.9543010752688172\n",
      "For k = 24  the accuracy score is:  0.9354838709677419\n",
      "For k = 25  the accuracy score is:  0.9408602150537635\n",
      "For k = 26  the accuracy score is:  0.9381720430107527\n",
      "For k = 27  the accuracy score is:  0.9408602150537635\n",
      "For k = 28  the accuracy score is:  0.9354838709677419\n",
      "For k = 29  the accuracy score is:  0.9381720430107527\n",
      "For k = 30  the accuracy score is:  0.9408602150537635\n",
      "For k = 31  the accuracy score is:  0.9381720430107527\n",
      "For k = 32  the accuracy score is:  0.9381720430107527\n",
      "For k = 33  the accuracy score is:  0.9408602150537635\n",
      "For k = 34  the accuracy score is:  0.9381720430107527\n",
      "For k = 35  the accuracy score is:  0.9381720430107527\n",
      "For k = 36  the accuracy score is:  0.9354838709677419\n",
      "For k = 37  the accuracy score is:  0.9354838709677419\n",
      "For k = 38  the accuracy score is:  0.9301075268817204\n",
      "For k = 39  the accuracy score is:  0.9327956989247311\n",
      "For k = 40  the accuracy score is:  0.9301075268817204\n",
      "For k = 41  the accuracy score is:  0.9301075268817204\n",
      "The best k was: 3 with an accuracy of: 0.967741935483871\n",
      "Accuracy for KNN Model:  0.967741935483871\n"
     ]
    },
    {
     "data": {
      "image/png": "[encoded data removed]",
      "text/plain": [
       "<Figure size 432x288 with 2 Axes>"
      ]
     },
     "metadata": {},
     "output_type": "display_data"
    }
   ],
   "source": [
    "knn = np.arange(2, 42)\n",
    "cur_k = 0 # used for best k\n",
    "curMax_accuracy = 0 # used for best accuracy\n",
    "knn_cm = \"\" # used for confusion matrix\n",
    "knn_model = \"\" # used for best model\n",
    "error_rates = [] # used to store error rates\n",
    "accuracy_rates = [] # used to store accuracy\n",
    "for k in knn:\n",
    "    #classifier\n",
    "    clf = sklearn.neighbors.KNeighborsClassifier(n_neighbors=k, weights='uniform')\n",
    "    #model\n",
    "    fitted = clf.fit(pkmn_train_x, pkmn_train_y.ravel())\n",
    "    #predictions\n",
    "    predictions = fitted.predict(pkmn_test_x)\n",
    "    #accuracy\n",
    "    accuracy = sklearn.metrics.accuracy_score(predictions, pkmn_test_y)\n",
    "    #append so we can graph earlier\n",
    "    error_rates.append(np.mean(predictions != pkmn_test_y))\n",
    "    accuracy_rates.append(accuracy)\n",
    "    print(\"For k =\", k, \" the accuracy score is: \", accuracy)\n",
    "    if accuracy > curMax_accuracy:\n",
    "        # update variables\n",
    "        curMax_accuracy = accuracy\n",
    "        cur_k = k\n",
    "        knn_cm=metrics.confusion_matrix(pkmn_test_y, predictions)\n",
    "        knn_model = fitted\n",
    "print(\"The best k was:\", cur_k, \"with an accuracy of:\", curMax_accuracy)\n",
    "class_names = [\"Non-Legendary\", \"Legendary\"]\n",
    "fig,ax = plt.subplots()\n",
    "tick_marks = np.arange(len(class_names))\n",
    "plt.xticks(tick_marks, class_names)\n",
    "plt.yticks(tick_marks, class_names)\n",
    "sns.heatmap(pd.DataFrame(knn_cm), cmap=\"YlGnBu\", annot=True, fmt='g')\n",
    "ax.xaxis.set_label_position(\"top\")\n",
    "plt.tight_layout()\n",
    "plt.title(\"Confusion Matrix\", y=1.1)\n",
    "plt.ylabel(\"Actual Legendary Status\")\n",
    "plt.xlabel(\"Predicted Legendary Status\")\n",
    "print(\"Accuracy for KNN Model: \", knn_model.score(pkmn_test_x, pkmn_test_y))"
   ]
  },
  {
   "cell_type": "markdown",
   "id": "adc4e371-ea32-4a10-8bbe-659206fed787",
   "metadata": {},
   "source": [
    "### Models : Review\n",
    "A recap of the models we tried\n",
    "- We tried logistic regression, both using Statsmodels and Sklearn\n",
    "- We explored interaction terms and found none to be significant\n",
    "- We tried K nearest neighbors"
   ]
  },
  {
   "cell_type": "markdown",
   "id": "34f65dfe-e546-4f3f-955b-7220b612d0ee",
   "metadata": {},
   "source": [
    "## Analysis and Results\n",
    "- First Lets Analyze our models that we came up with\n",
    "- We will visualize the error and accuracy of our plots with different knn values\n",
    "- We will compare the different Confusion Matrices of each model\n",
    "- Next we will view the results of running our models and try to answer our question"
   ]
  },
  {
   "cell_type": "markdown",
   "id": "1b1e9ac0-841b-4919-a4c4-847b321c1360",
   "metadata": {},
   "source": [
    "## Analysis\n",
    "- We came up with several different logistic regression models which had Adj R-squared values of .93 and .95 respectively\n",
    "- We tried several interaction terms with our second logistic model such as Offensive, Defensive and Special, but none proved to be statistically significant\n",
    "- We tried KNN with many different K values but ultimately got our model with the best accuracy of .97 and a K=3\n",
    "- Now lets take a look at the error rates and accuracy rates of that KNN model"
   ]
  },
  {
   "cell_type": "code",
   "execution_count": 30,
   "id": "e361fc60-2f85-4557-a5f5-ab22f72c6184",
   "metadata": {},
   "outputs": [
    {
     "name": "stdout",
     "output_type": "stream",
     "text": [
      "Minimum error:- 0.03225806451612903 at K = 3\n"
     ]
    },
    {
     "data": {
      "image/png": "[encoded data removed]",
      "text/plain": [
       "<Figure size 720x432 with 1 Axes>"
      ]
     },
     "metadata": {},
     "output_type": "display_data"
    }
   ],
   "source": [
    "\n",
    "plt.figure(figsize=(10,6))\n",
    "plt.plot(range(2,42),error_rates,color='blue', linestyle='dashed', \n",
    "         marker='o',markerfacecolor='red', markersize=10)\n",
    "plt.title('Error Rate vs. K Value')\n",
    "plt.xlabel('K')\n",
    "plt.ylabel('Error Rate')\n",
    "print(\"Minimum error:-\",min(error_rates),\"at K =\",error_rates.index(min(error_rates))+2)"
   ]
  },
  {
   "cell_type": "markdown",
   "id": "c5f87131-8455-489e-bf91-13b82d226500",
   "metadata": {},
   "source": [
    "It looks like the minimum error rate occurs at K=3 and the error rate increases from then out"
   ]
  },
  {
   "cell_type": "code",
   "execution_count": 31,
   "id": "139a6da6-25ed-465a-a722-172df5976439",
   "metadata": {},
   "outputs": [
    {
     "name": "stdout",
     "output_type": "stream",
     "text": [
      "Maximum accuracy:- 0.967741935483871 at K = 3\n"
     ]
    },
    {
     "data": {
      "image/png": "[encoded data removed]",
      "text/plain": [
       "<Figure size 720x432 with 1 Axes>"
      ]
     },
     "metadata": {},
     "output_type": "display_data"
    }
   ],
   "source": [
    "plt.figure(figsize=(10,6))\n",
    "plt.plot(range(2,42),accuracy_rates,color = 'blue',linestyle='dashed', \n",
    "         marker='o',markerfacecolor='red', markersize=10)\n",
    "plt.title('accuracy vs. K Value')\n",
    "plt.xlabel('K')\n",
    "plt.ylabel('Accuracy')\n",
    "print(\"Maximum accuracy:-\",max(accuracy_rates),\"at K =\",accuracy_rates.index(max(accuracy_rates))+2)"
   ]
  },
  {
   "cell_type": "markdown",
   "id": "dc758b20-d34d-4895-b729-f599d1c69606",
   "metadata": {},
   "source": [
    "Now lets compare the different Confusion Matrices"
   ]
  },
  {
   "cell_type": "code",
   "execution_count": 32,
   "id": "20011864-32ed-42db-b294-830f1efdfe4f",
   "metadata": {},
   "outputs": [
    {
     "name": "stdout",
     "output_type": "stream",
     "text": [
      "Accuracy for Logistic Regression Model:  0.9301075268817204\n"
     ]
    },
    {
     "data": {
      "image/png": "[encoded data removed]",
      "text/plain": [
       "<Figure size 432x288 with 2 Axes>"
      ]
     },
     "metadata": {},
     "output_type": "display_data"
    }
   ],
   "source": [
    "class_names = [\"Non-Legendary\", \"Legendary\"]\n",
    "fig,ax = plt.subplots()\n",
    "tick_marks = np.arange(len(class_names))\n",
    "plt.xticks(tick_marks, class_names)\n",
    "plt.yticks(tick_marks, class_names)\n",
    "sns.heatmap(pd.DataFrame(legendary_model_cm), cmap=\"YlGnBu\", annot=True, fmt='g')\n",
    "ax.xaxis.set_label_position(\"top\")\n",
    "plt.tight_layout()\n",
    "plt.title(\"Confusion Matrix\", y=1.1)\n",
    "plt.ylabel(\"Actual Legendary Status\")\n",
    "plt.xlabel(\"Predicted Legendary Status\")\n",
    "print(\"Accuracy for Logistic Regression Model: \", legendary_model_lr.score(pkmn_test_x, pkmn_test_y))"
   ]
  },
  {
   "cell_type": "code",
   "execution_count": 33,
   "id": "d9312422-6231-4f51-9059-cb7b2bfa92b9",
   "metadata": {},
   "outputs": [
    {
     "name": "stdout",
     "output_type": "stream",
     "text": [
      "Accuracy for KNN Model:  0.967741935483871\n"
     ]
    },
    {
     "data": {
      "image/png": "[encoded data removed]",
      "text/plain": [
       "<Figure size 432x288 with 2 Axes>"
      ]
     },
     "metadata": {},
     "output_type": "display_data"
    }
   ],
   "source": [
    "class_names = [\"Non-Legendary\", \"Legendary\"]\n",
    "fig,ax = plt.subplots()\n",
    "tick_marks = np.arange(len(class_names))\n",
    "plt.xticks(tick_marks, class_names)\n",
    "plt.yticks(tick_marks, class_names)\n",
    "sns.heatmap(pd.DataFrame(knn_cm), cmap=\"YlGnBu\", annot=True, fmt='g')\n",
    "ax.xaxis.set_label_position(\"top\")\n",
    "plt.tight_layout()\n",
    "plt.title(\"Confusion Matrix\", y=1.1)\n",
    "plt.ylabel(\"Actual Legendary Status\")\n",
    "plt.xlabel(\"Predicted Legendary Status\")\n",
    "print(\"Accuracy for KNN Model: \", knn_model.score(pkmn_test_x, pkmn_test_y))"
   ]
  },
  {
   "cell_type": "markdown",
   "id": "ff517a59-7818-4368-8430-abc920c1e1df",
   "metadata": {},
   "source": [
    "These two are remarkably similar, with roughly the same number of predicted non legendary pokemon correct. Where it gets interesting is that the KNN model predicted many legendary pokmeon correctly when compared to the logistic regression model"
   ]
  },
  {
   "cell_type": "markdown",
   "id": "8a8a33f4-aff9-4bb0-8773-56715012b965",
   "metadata": {},
   "source": [
    "### Results\n",
    "- Now lets answer the ultimate question for our project\n",
    "- Which pokemon that aren't legendary, should be classified as legendary based on their stats.\n",
    "- First a recap of the pokemon that are considered by fans as Pseudo-legendaries\n",
    "- Then the pokmeon that our model predicts to be legendary but aren't\n",
    "- Lastly we will compare the list of pseudo legendaries to the list of predicted legendaries and observe differences and similarities"
   ]
  },
  {
   "cell_type": "code",
   "execution_count": 34,
   "id": "c851a451-edd8-45d6-828c-e8bc87c1c366",
   "metadata": {},
   "outputs": [
    {
     "name": "stdout",
     "output_type": "stream",
     "text": [
      "Pseudo-Legendaries\n",
      "161    Dragonite\n",
      "267    Tyranitar\n",
      "313      Slaking\n",
      "408    Salamence\n",
      "412    Metagross\n",
      "493     Garchomp\n",
      "696    Hydreigon\n",
      "776       Goodra\n",
      "Name: Name, dtype: object\n"
     ]
    }
   ],
   "source": [
    "print(\"Pseudo-Legendaries\")\n",
    "print(pseudo_legendaries.Name)"
   ]
  },
  {
   "cell_type": "code",
   "execution_count": 35,
   "id": "243818b9-752d-497c-9c2d-a2ffc9874fb2",
   "metadata": {},
   "outputs": [
    {
     "name": "stdout",
     "output_type": "stream",
     "text": [
      "The following Non-Legendary Pokemon were predicted to be Legendary by our model\n",
      "6                 Charizard\n",
      "64                 Arcanine\n",
      "171              Typhlosion\n",
      "249                 Kingdra\n",
      "408               Salamence\n",
      "412               Metagross\n",
      "497                 Lucario\n",
      "518               Magmortar\n",
      "520                 Yanmega\n",
      "525               Porygon-Z\n",
      "529                Dusknoir\n",
      "645               Vanilluxe\n",
      "696               Hydreigon\n",
      "723                 Delphox\n",
      "750    AegislashBlade Forme\n",
      "776                  Goodra\n",
      "Name: Name, dtype: object\n"
     ]
    }
   ],
   "source": [
    "non_leg = pseudo_set\n",
    "non_leg = non_leg[non_leg.Legendary == False]\n",
    "non_leg = non_leg.drop(['Type 1', 'Type 2', 'Generation', '#', \"Total\"], axis=1)\n",
    "non_leg2 = non_leg.copy()\n",
    "non_leg = non_leg.drop(['Name', 'Legendary'], axis=1)\n",
    "cols = non_leg.columns\n",
    "min_max_scaler = preprocessing.MinMaxScaler()\n",
    "np_scaled = min_max_scaler.fit_transform(non_leg)\n",
    "pkmn_normalized2 = pd.DataFrame(np_scaled, columns=cols)\n",
    "pseudo_preds = knn_model.predict(pkmn_normalized2)\n",
    "non_leg2['Predictions'] = pseudo_preds\n",
    "print(\"The following Non-Legendary Pokemon were predicted to be Legendary by our model\")\n",
    "predicted_legendaries = non_leg2[non_leg2.Predictions == 1]\n",
    "print(predicted_legendaries['Name'])"
   ]
  },
  {
   "cell_type": "code",
   "execution_count": 36,
   "id": "0dc291d3-d7e2-4d6f-a65a-9181970e2b8e",
   "metadata": {},
   "outputs": [
    {
     "name": "stdout",
     "output_type": "stream",
     "text": [
      "The following Non-Legendary Pokemon were predicted to be legendary by our model and are NOT considered pseudo-legendary\n",
      "Kingdra\n",
      "Vanilluxe\n",
      "Delphox\n",
      "AegislashBlade Forme\n",
      "Typhlosion\n",
      "Lucario\n",
      "Porygon-Z\n",
      "Magmortar\n",
      "Arcanine\n",
      "Charizard\n",
      "Yanmega\n",
      "Dusknoir\n"
     ]
    }
   ],
   "source": [
    "powerful_pokemon = list(set(predicted_legendaries.Name) - set(pseudo_legendaries.Name))\n",
    "print(\"The following Non-Legendary Pokemon were predicted to be legendary by our model and are NOT considered pseudo-legendary\")\n",
    "for i in powerful_pokemon:\n",
    "    print(i)"
   ]
  },
  {
   "cell_type": "markdown",
   "id": "7584217a-9c4c-4a0f-8438-92d3174548db",
   "metadata": {},
   "source": [
    "- The above pokemon were all predicted to be legendary based on their stats using our model yet are not considered legendary pokemon, nor are they considered by fans to be \"Pseudo-legendary\".\n",
    "- As an avid pokemon fan some of these I am not surprised by Kingdra, Arcanine, Lucario, and AegisSlash are all powerful in competitive pokemon and widely loved by fans as they were used often in promotional materials and the anime television show\n",
    "- There is also a group of \"evolutions\" that were added as updates to older Pokemon roughly 10 years later those being Yanmega, Magmortar, Porygon-Z, and Dusknoir\n",
    "- Interestingly there is a group of \"final evolution\" starter pokemon (given to the player at the start of the game then powered up) but all of these are fire type. That is really surprising and I didn't expect to see that trend. This group includes Delphox, Typhlosion and Charizard.\n",
    "- The most suprising pokemon on this list that I didnt expect was Vanilluxe. It isn't featured in promotional materials as much as others and isn't used much competitively but maybe I should look into doing so"
   ]
  }
 ],
 "metadata": {
  "kernelspec": {
   "display_name": "Python 3 (ipykernel)",
   "language": "python",
   "name": "python3"
  },
  "language_info": {
   "codemirror_mode": {
    "name": "ipython",
    "version": 3
   },
   "file_extension": ".py",
   "mimetype": "text/x-python",
   "name": "python",
   "nbconvert_exporter": "python",
   "pygments_lexer": "ipython3",
   "version": "3.10.5"
  }
 },
 "nbformat": 4,
 "nbformat_minor": 5
}
